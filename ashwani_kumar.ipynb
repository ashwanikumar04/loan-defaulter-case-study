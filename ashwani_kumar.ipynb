{
 "cells": [
  {
   "cell_type": "code",
   "execution_count": 87,
   "metadata": {},
   "outputs": [],
   "source": [
    "import pandas as pd\n",
    "import numpy as np\n",
    "import matplotlib.pyplot as plt\n",
    "import seaborn as sns\n",
    "import os.path\n",
    "# setting display format so that large values are shown properly\n",
    "pd.set_option('display.float_format', lambda x: '%.4f' % x)"
   ]
  },
  {
   "cell_type": "code",
   "execution_count": 88,
   "metadata": {},
   "outputs": [
    {
     "name": "stdout",
     "output_type": "stream",
     "text": [
      "loading from zip\n",
      "<class 'pandas.core.frame.DataFrame'>\n",
      "RangeIndex: 39717 entries, 0 to 39716\n",
      "Columns: 111 entries, id to total_il_high_credit_limit\n",
      "dtypes: float64(74), int64(13), object(24)\n",
      "memory usage: 33.6+ MB\n"
     ]
    }
   ],
   "source": [
    "if os.path.isfile('loan.csv'):\n",
    "    print(\"loading from csv\")\n",
    "    loans = pd.read_csv('loan.csv', low_memory=False)\n",
    "else:\n",
    "    print(\"loading from zip\")\n",
    "    loans = pd.read_csv('loan.zip', compression='zip', low_memory=False)\n",
    "\n",
    "loans.info()"
   ]
  },
  {
   "cell_type": "code",
   "execution_count": 89,
   "metadata": {},
   "outputs": [
    {
     "name": "stdout",
     "output_type": "stream",
     "text": [
      "Index(['id', 'member_id', 'loan_amnt', 'funded_amnt', 'funded_amnt_inv',\n",
      "       'term', 'int_rate', 'installment', 'grade', 'sub_grade',\n",
      "       ...\n",
      "       'num_tl_90g_dpd_24m', 'num_tl_op_past_12m', 'pct_tl_nvr_dlq',\n",
      "       'percent_bc_gt_75', 'pub_rec_bankruptcies', 'tax_liens',\n",
      "       'tot_hi_cred_lim', 'total_bal_ex_mort', 'total_bc_limit',\n",
      "       'total_il_high_credit_limit'],\n",
      "      dtype='object', length=111)\n"
     ]
    }
   ],
   "source": [
    "print(loans.columns)"
   ]
  },
  {
   "cell_type": "markdown",
   "metadata": {},
   "source": [
    "Getting basic info about the data"
   ]
  },
  {
   "cell_type": "code",
   "execution_count": 90,
   "metadata": {},
   "outputs": [
    {
     "name": "stdout",
     "output_type": "stream",
     "text": [
      "<class 'pandas.core.frame.DataFrame'>\n",
      "RangeIndex: 39717 entries, 0 to 39716\n",
      "Data columns (total 111 columns):\n",
      "id                                int64\n",
      "member_id                         int64\n",
      "loan_amnt                         int64\n",
      "funded_amnt                       int64\n",
      "funded_amnt_inv                   float64\n",
      "term                              object\n",
      "int_rate                          object\n",
      "installment                       float64\n",
      "grade                             object\n",
      "sub_grade                         object\n",
      "emp_title                         object\n",
      "emp_length                        object\n",
      "home_ownership                    object\n",
      "annual_inc                        float64\n",
      "verification_status               object\n",
      "issue_d                           object\n",
      "loan_status                       object\n",
      "pymnt_plan                        object\n",
      "url                               object\n",
      "desc                              object\n",
      "purpose                           object\n",
      "title                             object\n",
      "zip_code                          object\n",
      "addr_state                        object\n",
      "dti                               float64\n",
      "delinq_2yrs                       int64\n",
      "earliest_cr_line                  object\n",
      "inq_last_6mths                    int64\n",
      "mths_since_last_delinq            float64\n",
      "mths_since_last_record            float64\n",
      "open_acc                          int64\n",
      "pub_rec                           int64\n",
      "revol_bal                         int64\n",
      "revol_util                        object\n",
      "total_acc                         int64\n",
      "initial_list_status               object\n",
      "out_prncp                         float64\n",
      "out_prncp_inv                     float64\n",
      "total_pymnt                       float64\n",
      "total_pymnt_inv                   float64\n",
      "total_rec_prncp                   float64\n",
      "total_rec_int                     float64\n",
      "total_rec_late_fee                float64\n",
      "recoveries                        float64\n",
      "collection_recovery_fee           float64\n",
      "last_pymnt_d                      object\n",
      "last_pymnt_amnt                   float64\n",
      "next_pymnt_d                      object\n",
      "last_credit_pull_d                object\n",
      "collections_12_mths_ex_med        float64\n",
      "mths_since_last_major_derog       float64\n",
      "policy_code                       int64\n",
      "application_type                  object\n",
      "annual_inc_joint                  float64\n",
      "dti_joint                         float64\n",
      "verification_status_joint         float64\n",
      "acc_now_delinq                    int64\n",
      "tot_coll_amt                      float64\n",
      "tot_cur_bal                       float64\n",
      "open_acc_6m                       float64\n",
      "open_il_6m                        float64\n",
      "open_il_12m                       float64\n",
      "open_il_24m                       float64\n",
      "mths_since_rcnt_il                float64\n",
      "total_bal_il                      float64\n",
      "il_util                           float64\n",
      "open_rv_12m                       float64\n",
      "open_rv_24m                       float64\n",
      "max_bal_bc                        float64\n",
      "all_util                          float64\n",
      "total_rev_hi_lim                  float64\n",
      "inq_fi                            float64\n",
      "total_cu_tl                       float64\n",
      "inq_last_12m                      float64\n",
      "acc_open_past_24mths              float64\n",
      "avg_cur_bal                       float64\n",
      "bc_open_to_buy                    float64\n",
      "bc_util                           float64\n",
      "chargeoff_within_12_mths          float64\n",
      "delinq_amnt                       int64\n",
      "mo_sin_old_il_acct                float64\n",
      "mo_sin_old_rev_tl_op              float64\n",
      "mo_sin_rcnt_rev_tl_op             float64\n",
      "mo_sin_rcnt_tl                    float64\n",
      "mort_acc                          float64\n",
      "mths_since_recent_bc              float64\n",
      "mths_since_recent_bc_dlq          float64\n",
      "mths_since_recent_inq             float64\n",
      "mths_since_recent_revol_delinq    float64\n",
      "num_accts_ever_120_pd             float64\n",
      "num_actv_bc_tl                    float64\n",
      "num_actv_rev_tl                   float64\n",
      "num_bc_sats                       float64\n",
      "num_bc_tl                         float64\n",
      "num_il_tl                         float64\n",
      "num_op_rev_tl                     float64\n",
      "num_rev_accts                     float64\n",
      "num_rev_tl_bal_gt_0               float64\n",
      "num_sats                          float64\n",
      "num_tl_120dpd_2m                  float64\n",
      "num_tl_30dpd                      float64\n",
      "num_tl_90g_dpd_24m                float64\n",
      "num_tl_op_past_12m                float64\n",
      "pct_tl_nvr_dlq                    float64\n",
      "percent_bc_gt_75                  float64\n",
      "pub_rec_bankruptcies              float64\n",
      "tax_liens                         float64\n",
      "tot_hi_cred_lim                   float64\n",
      "total_bal_ex_mort                 float64\n",
      "total_bc_limit                    float64\n",
      "total_il_high_credit_limit        float64\n",
      "dtypes: float64(74), int64(13), object(24)\n",
      "memory usage: 33.6+ MB\n"
     ]
    }
   ],
   "source": [
    "loans.info(verbose=True)"
   ]
  },
  {
   "cell_type": "markdown",
   "metadata": {},
   "source": [
    "Showing the counts of entries per column"
   ]
  },
  {
   "cell_type": "code",
   "execution_count": 91,
   "metadata": {},
   "outputs": [
    {
     "data": {
      "text/plain": [
       "id                            39717\n",
       "member_id                     39717\n",
       "loan_amnt                     39717\n",
       "funded_amnt                   39717\n",
       "funded_amnt_inv               39717\n",
       "                              ...  \n",
       "tax_liens                     39678\n",
       "tot_hi_cred_lim                   0\n",
       "total_bal_ex_mort                 0\n",
       "total_bc_limit                    0\n",
       "total_il_high_credit_limit        0\n",
       "Length: 111, dtype: int64"
      ]
     },
     "execution_count": 91,
     "metadata": {},
     "output_type": "execute_result"
    }
   ],
   "source": [
    "loans.count()"
   ]
  },
  {
   "cell_type": "code",
   "execution_count": 92,
   "metadata": {},
   "outputs": [
    {
     "name": "stdout",
     "output_type": "stream",
     "text": [
      "id                                0\n",
      "member_id                         0\n",
      "loan_amnt                         0\n",
      "funded_amnt                       0\n",
      "funded_amnt_inv                   0\n",
      "                              ...  \n",
      "tax_liens                        39\n",
      "tot_hi_cred_lim               39717\n",
      "total_bal_ex_mort             39717\n",
      "total_bc_limit                39717\n",
      "total_il_high_credit_limit    39717\n",
      "Length: 111, dtype: int64\n"
     ]
    }
   ],
   "source": [
    "num_rows = loans.shape[0]\n",
    "num_missing = num_rows - loans.count()\n",
    "print(num_missing)"
   ]
  },
  {
   "cell_type": "code",
   "execution_count": 93,
   "metadata": {},
   "outputs": [
    {
     "data": {
      "text/plain": [
       "id                                0\n",
       "member_id                         0\n",
       "loan_amnt                         0\n",
       "funded_amnt                       0\n",
       "funded_amnt_inv                   0\n",
       "                              ...  \n",
       "tax_liens                        39\n",
       "tot_hi_cred_lim               39717\n",
       "total_bal_ex_mort             39717\n",
       "total_bc_limit                39717\n",
       "total_il_high_credit_limit    39717\n",
       "Length: 111, dtype: int64"
      ]
     },
     "execution_count": 93,
     "metadata": {},
     "output_type": "execute_result"
    }
   ],
   "source": [
    "loans.isnull().sum()"
   ]
  },
  {
   "cell_type": "markdown",
   "metadata": {},
   "source": [
    "### Finding columns which have NAN"
   ]
  },
  {
   "cell_type": "code",
   "execution_count": 94,
   "metadata": {},
   "outputs": [],
   "source": [
    "def get_columns_with_nan_percentage(df):\n",
    "    nan_cols = [{\n",
    "            \"column\":c,\n",
    "            \"percentage\":round(100*(df[c].isnull().sum()/len(df[c].index)), 2)\n",
    "            } for c in df.columns if round(100*(df[c].isnull().sum()/len(df[c].index)), 2)>0]\n",
    "    return nan_cols"
   ]
  },
  {
   "cell_type": "code",
   "execution_count": 95,
   "metadata": {},
   "outputs": [
    {
     "name": "stdout",
     "output_type": "stream",
     "text": [
      "[{'column': 'emp_title', 'percentage': 6.19}, {'column': 'emp_length', 'percentage': 2.71}, {'column': 'desc', 'percentage': 32.58}, {'column': 'title', 'percentage': 0.03}, {'column': 'mths_since_last_delinq', 'percentage': 64.66}, {'column': 'mths_since_last_record', 'percentage': 92.99}, {'column': 'revol_util', 'percentage': 0.13}, {'column': 'last_pymnt_d', 'percentage': 0.18}, {'column': 'next_pymnt_d', 'percentage': 97.13}, {'column': 'last_credit_pull_d', 'percentage': 0.01}, {'column': 'collections_12_mths_ex_med', 'percentage': 0.14}, {'column': 'mths_since_last_major_derog', 'percentage': 100.0}, {'column': 'annual_inc_joint', 'percentage': 100.0}, {'column': 'dti_joint', 'percentage': 100.0}, {'column': 'verification_status_joint', 'percentage': 100.0}, {'column': 'tot_coll_amt', 'percentage': 100.0}, {'column': 'tot_cur_bal', 'percentage': 100.0}, {'column': 'open_acc_6m', 'percentage': 100.0}, {'column': 'open_il_6m', 'percentage': 100.0}, {'column': 'open_il_12m', 'percentage': 100.0}, {'column': 'open_il_24m', 'percentage': 100.0}, {'column': 'mths_since_rcnt_il', 'percentage': 100.0}, {'column': 'total_bal_il', 'percentage': 100.0}, {'column': 'il_util', 'percentage': 100.0}, {'column': 'open_rv_12m', 'percentage': 100.0}, {'column': 'open_rv_24m', 'percentage': 100.0}, {'column': 'max_bal_bc', 'percentage': 100.0}, {'column': 'all_util', 'percentage': 100.0}, {'column': 'total_rev_hi_lim', 'percentage': 100.0}, {'column': 'inq_fi', 'percentage': 100.0}, {'column': 'total_cu_tl', 'percentage': 100.0}, {'column': 'inq_last_12m', 'percentage': 100.0}, {'column': 'acc_open_past_24mths', 'percentage': 100.0}, {'column': 'avg_cur_bal', 'percentage': 100.0}, {'column': 'bc_open_to_buy', 'percentage': 100.0}, {'column': 'bc_util', 'percentage': 100.0}, {'column': 'chargeoff_within_12_mths', 'percentage': 0.14}, {'column': 'mo_sin_old_il_acct', 'percentage': 100.0}, {'column': 'mo_sin_old_rev_tl_op', 'percentage': 100.0}, {'column': 'mo_sin_rcnt_rev_tl_op', 'percentage': 100.0}, {'column': 'mo_sin_rcnt_tl', 'percentage': 100.0}, {'column': 'mort_acc', 'percentage': 100.0}, {'column': 'mths_since_recent_bc', 'percentage': 100.0}, {'column': 'mths_since_recent_bc_dlq', 'percentage': 100.0}, {'column': 'mths_since_recent_inq', 'percentage': 100.0}, {'column': 'mths_since_recent_revol_delinq', 'percentage': 100.0}, {'column': 'num_accts_ever_120_pd', 'percentage': 100.0}, {'column': 'num_actv_bc_tl', 'percentage': 100.0}, {'column': 'num_actv_rev_tl', 'percentage': 100.0}, {'column': 'num_bc_sats', 'percentage': 100.0}, {'column': 'num_bc_tl', 'percentage': 100.0}, {'column': 'num_il_tl', 'percentage': 100.0}, {'column': 'num_op_rev_tl', 'percentage': 100.0}, {'column': 'num_rev_accts', 'percentage': 100.0}, {'column': 'num_rev_tl_bal_gt_0', 'percentage': 100.0}, {'column': 'num_sats', 'percentage': 100.0}, {'column': 'num_tl_120dpd_2m', 'percentage': 100.0}, {'column': 'num_tl_30dpd', 'percentage': 100.0}, {'column': 'num_tl_90g_dpd_24m', 'percentage': 100.0}, {'column': 'num_tl_op_past_12m', 'percentage': 100.0}, {'column': 'pct_tl_nvr_dlq', 'percentage': 100.0}, {'column': 'percent_bc_gt_75', 'percentage': 100.0}, {'column': 'pub_rec_bankruptcies', 'percentage': 1.75}, {'column': 'tax_liens', 'percentage': 0.1}, {'column': 'tot_hi_cred_lim', 'percentage': 100.0}, {'column': 'total_bal_ex_mort', 'percentage': 100.0}, {'column': 'total_bc_limit', 'percentage': 100.0}, {'column': 'total_il_high_credit_limit', 'percentage': 100.0}]\n"
     ]
    }
   ],
   "source": [
    "print(get_columns_with_nan_percentage(loans))"
   ]
  },
  {
   "cell_type": "markdown",
   "metadata": {},
   "source": [
    "#### Deleting columns which have 100% NAN"
   ]
  },
  {
   "cell_type": "code",
   "execution_count": 96,
   "metadata": {},
   "outputs": [
    {
     "name": "stdout",
     "output_type": "stream",
     "text": [
      "[{'column': 'emp_title', 'percentage': 6.19}, {'column': 'emp_length', 'percentage': 2.71}, {'column': 'desc', 'percentage': 32.58}, {'column': 'title', 'percentage': 0.03}, {'column': 'mths_since_last_delinq', 'percentage': 64.66}, {'column': 'mths_since_last_record', 'percentage': 92.99}, {'column': 'revol_util', 'percentage': 0.13}, {'column': 'last_pymnt_d', 'percentage': 0.18}, {'column': 'next_pymnt_d', 'percentage': 97.13}, {'column': 'last_credit_pull_d', 'percentage': 0.01}, {'column': 'collections_12_mths_ex_med', 'percentage': 0.14}, {'column': 'chargeoff_within_12_mths', 'percentage': 0.14}, {'column': 'pub_rec_bankruptcies', 'percentage': 1.75}, {'column': 'tax_liens', 'percentage': 0.1}]\n"
     ]
    }
   ],
   "source": [
    "loans = loans.dropna(how='all', axis=1)\n",
    "print(get_columns_with_nan_percentage(loans))"
   ]
  },
  {
   "cell_type": "markdown",
   "metadata": {},
   "source": [
    "#### Deleting columns with more than 90% empty values"
   ]
  },
  {
   "cell_type": "code",
   "execution_count": 97,
   "metadata": {},
   "outputs": [
    {
     "name": "stdout",
     "output_type": "stream",
     "text": [
      "[{'column': 'emp_title', 'percentage': 6.19}, {'column': 'emp_length', 'percentage': 2.71}, {'column': 'desc', 'percentage': 32.58}, {'column': 'title', 'percentage': 0.03}, {'column': 'mths_since_last_delinq', 'percentage': 64.66}, {'column': 'revol_util', 'percentage': 0.13}, {'column': 'last_pymnt_d', 'percentage': 0.18}, {'column': 'last_credit_pull_d', 'percentage': 0.01}, {'column': 'collections_12_mths_ex_med', 'percentage': 0.14}, {'column': 'chargeoff_within_12_mths', 'percentage': 0.14}, {'column': 'pub_rec_bankruptcies', 'percentage': 1.75}, {'column': 'tax_liens', 'percentage': 0.1}]\n"
     ]
    }
   ],
   "source": [
    "loans = loans.drop(['next_pymnt_d', 'mths_since_last_record'], axis=1)\n",
    "print(get_columns_with_nan_percentage(loans))"
   ]
  },
  {
   "cell_type": "markdown",
   "metadata": {},
   "source": [
    "#### Deleting not useful columns like `desc`"
   ]
  },
  {
   "cell_type": "code",
   "execution_count": 98,
   "metadata": {},
   "outputs": [
    {
     "name": "stdout",
     "output_type": "stream",
     "text": [
      "[{'column': 'emp_title', 'percentage': 6.19}, {'column': 'emp_length', 'percentage': 2.71}, {'column': 'title', 'percentage': 0.03}, {'column': 'mths_since_last_delinq', 'percentage': 64.66}, {'column': 'revol_util', 'percentage': 0.13}, {'column': 'last_pymnt_d', 'percentage': 0.18}, {'column': 'last_credit_pull_d', 'percentage': 0.01}, {'column': 'collections_12_mths_ex_med', 'percentage': 0.14}, {'column': 'chargeoff_within_12_mths', 'percentage': 0.14}, {'column': 'pub_rec_bankruptcies', 'percentage': 1.75}, {'column': 'tax_liens', 'percentage': 0.1}]\n"
     ]
    }
   ],
   "source": [
    "loans = loans.drop(['desc'], axis=1)\n",
    "print(get_columns_with_nan_percentage(loans))"
   ]
  },
  {
   "cell_type": "markdown",
   "metadata": {},
   "source": [
    "#### Deleting rows where `revol_util`, `last_pymnt_d`,`last_credit_pull_d`, `collections_12_mths_ex_med`, `chargeoff_within_12_mths`, `pub_rec_bankruptcies` or `tax_liens` is NAN"
   ]
  },
  {
   "cell_type": "code",
   "execution_count": 100,
   "metadata": {},
   "outputs": [
    {
     "name": "stdout",
     "output_type": "stream",
     "text": [
      "[{'column': 'emp_title', 'percentage': 6.18}, {'column': 'emp_length', 'percentage': 2.74}, {'column': 'title', 'percentage': 0.03}, {'column': 'mths_since_last_delinq', 'percentage': 65.79}]\n"
     ]
    }
   ],
   "source": [
    "loans = loans[~loans['revol_util'].isnull()]\n",
    "loans = loans[~loans['last_pymnt_d'].isnull()]\n",
    "loans = loans[~loans['last_credit_pull_d'].isnull()]\n",
    "loans = loans[~loans['collections_12_mths_ex_med'].isnull()]\n",
    "loans = loans[~loans['chargeoff_within_12_mths'].isnull()]\n",
    "loans = loans[~loans['pub_rec_bankruptcies'].isnull()]\n",
    "loans = loans[~loans['tax_liens'].isnull()]\n",
    "\n",
    "print(get_columns_with_nan_percentage(loans))"
   ]
  },
  {
   "cell_type": "code",
   "execution_count": 102,
   "metadata": {},
   "outputs": [
    {
     "name": "stdout",
     "output_type": "stream",
     "text": [
      "[{'column': 'emp_length', 'percentage': 2.74}, {'column': 'mths_since_last_delinq', 'percentage': 65.79}]\n"
     ]
    }
   ],
   "source": [
    "loans[['emp_title', 'title']] = loans[['emp_title','title']].fillna(value='NA')\n",
    "print(get_columns_with_nan_percentage(loans))"
   ]
  },
  {
   "cell_type": "code",
   "execution_count": 111,
   "metadata": {},
   "outputs": [
    {
     "data": {
      "text/plain": [
       "10+ years    8750\n",
       "< 1 year     4397\n",
       "2 years      4291\n",
       "3 years      4023\n",
       "4 years      3377\n",
       "5 years      3235\n",
       "1 year       3133\n",
       "6 years      2193\n",
       "7 years      1747\n",
       "8 years      1449\n",
       "9 years      1238\n",
       "Name: emp_length, dtype: int64"
      ]
     },
     "execution_count": 111,
     "metadata": {},
     "output_type": "execute_result"
    }
   ],
   "source": [
    "loans['emp_length'].value_counts()"
   ]
  },
  {
   "cell_type": "markdown",
   "metadata": {},
   "source": [
    "`emp_length` is a ordinal categorical, however only 2.74% rows does not have this column, we can drop such rows as even after this we will have a descent data size"
   ]
  },
  {
   "cell_type": "code",
   "execution_count": 112,
   "metadata": {},
   "outputs": [
    {
     "name": "stdout",
     "output_type": "stream",
     "text": [
      "[{'column': 'mths_since_last_delinq', 'percentage': 65.74}]\n"
     ]
    }
   ],
   "source": [
    "loans = loans[~loans['emp_length'].isnull()]\n",
    "print(get_columns_with_nan_percentage(loans))"
   ]
  },
  {
   "cell_type": "code",
   "execution_count": 120,
   "metadata": {},
   "outputs": [
    {
     "data": {
      "text/plain": [
       "<matplotlib.axes._subplots.AxesSubplot at 0x7fa7e3df2a90>"
      ]
     },
     "execution_count": 120,
     "metadata": {},
     "output_type": "execute_result"
    },
    {
     "data": {
      "image/png": "[encoded data removed]",
      "text/plain": [
       "<Figure size 432x288 with 1 Axes>"
      ]
     },
     "metadata": {
      "needs_background": "light"
     },
     "output_type": "display_data"
    }
   ],
   "source": [
    "loans.boxplot(column='mths_since_last_delinq')"
   ]
  },
  {
   "cell_type": "code",
   "execution_count": 121,
   "metadata": {},
   "outputs": [
    {
     "data": {
      "text/html": [
       "<div>\n",
       "<style scoped>\n",
       "    .dataframe tbody tr th:only-of-type {\n",
       "        vertical-align: middle;\n",
       "    }\n",
       "\n",
       "    .dataframe tbody tr th {\n",
       "        vertical-align: top;\n",
       "    }\n",
       "\n",
       "    .dataframe thead th {\n",
       "        text-align: right;\n",
       "    }\n",
       "</style>\n",
       "<table border=\"1\" class=\"dataframe\">\n",
       "  <thead>\n",
       "    <tr style=\"text-align: right;\">\n",
       "      <th></th>\n",
       "      <th>id</th>\n",
       "      <th>member_id</th>\n",
       "      <th>loan_amnt</th>\n",
       "      <th>funded_amnt</th>\n",
       "      <th>funded_amnt_inv</th>\n",
       "      <th>installment</th>\n",
       "      <th>annual_inc</th>\n",
       "      <th>dti</th>\n",
       "      <th>delinq_2yrs</th>\n",
       "      <th>inq_last_6mths</th>\n",
       "      <th>...</th>\n",
       "      <th>recoveries</th>\n",
       "      <th>collection_recovery_fee</th>\n",
       "      <th>last_pymnt_amnt</th>\n",
       "      <th>collections_12_mths_ex_med</th>\n",
       "      <th>policy_code</th>\n",
       "      <th>acc_now_delinq</th>\n",
       "      <th>chargeoff_within_12_mths</th>\n",
       "      <th>delinq_amnt</th>\n",
       "      <th>pub_rec_bankruptcies</th>\n",
       "      <th>tax_liens</th>\n",
       "    </tr>\n",
       "  </thead>\n",
       "  <tbody>\n",
       "    <tr>\n",
       "      <td>count</td>\n",
       "      <td>37833.0000</td>\n",
       "      <td>37833.0000</td>\n",
       "      <td>37833.0000</td>\n",
       "      <td>37833.0000</td>\n",
       "      <td>37833.0000</td>\n",
       "      <td>37833.0000</td>\n",
       "      <td>37833.0000</td>\n",
       "      <td>37833.0000</td>\n",
       "      <td>37833.0000</td>\n",
       "      <td>37833.0000</td>\n",
       "      <td>...</td>\n",
       "      <td>37833.0000</td>\n",
       "      <td>37833.0000</td>\n",
       "      <td>37833.0000</td>\n",
       "      <td>37833.0000</td>\n",
       "      <td>37833.0000</td>\n",
       "      <td>37833.0000</td>\n",
       "      <td>37833.0000</td>\n",
       "      <td>37833.0000</td>\n",
       "      <td>37833.0000</td>\n",
       "      <td>37833.0000</td>\n",
       "    </tr>\n",
       "    <tr>\n",
       "      <td>mean</td>\n",
       "      <td>690017.2714</td>\n",
       "      <td>859792.5021</td>\n",
       "      <td>11328.4328</td>\n",
       "      <td>11050.3793</td>\n",
       "      <td>10618.6332</td>\n",
       "      <td>327.1402</td>\n",
       "      <td>69672.6446</td>\n",
       "      <td>13.3773</td>\n",
       "      <td>0.1458</td>\n",
       "      <td>0.8667</td>\n",
       "      <td>...</td>\n",
       "      <td>94.5497</td>\n",
       "      <td>12.1337</td>\n",
       "      <td>2730.4979</td>\n",
       "      <td>0.0000</td>\n",
       "      <td>1.0000</td>\n",
       "      <td>0.0000</td>\n",
       "      <td>0.0000</td>\n",
       "      <td>0.0000</td>\n",
       "      <td>0.0414</td>\n",
       "      <td>0.0000</td>\n",
       "    </tr>\n",
       "    <tr>\n",
       "      <td>std</td>\n",
       "      <td>202885.9503</td>\n",
       "      <td>254234.4735</td>\n",
       "      <td>7477.2734</td>\n",
       "      <td>7204.8821</td>\n",
       "      <td>7112.9011</td>\n",
       "      <td>209.0852</td>\n",
       "      <td>63644.6388</td>\n",
       "      <td>6.6561</td>\n",
       "      <td>0.4905</td>\n",
       "      <td>1.0664</td>\n",
       "      <td>...</td>\n",
       "      <td>690.3953</td>\n",
       "      <td>148.1131</td>\n",
       "      <td>4489.6693</td>\n",
       "      <td>0.0000</td>\n",
       "      <td>0.0000</td>\n",
       "      <td>0.0000</td>\n",
       "      <td>0.0000</td>\n",
       "      <td>0.0000</td>\n",
       "      <td>0.2002</td>\n",
       "      <td>0.0000</td>\n",
       "    </tr>\n",
       "    <tr>\n",
       "      <td>min</td>\n",
       "      <td>54734.0000</td>\n",
       "      <td>80364.0000</td>\n",
       "      <td>500.0000</td>\n",
       "      <td>500.0000</td>\n",
       "      <td>0.0000</td>\n",
       "      <td>16.0800</td>\n",
       "      <td>4000.0000</td>\n",
       "      <td>0.0000</td>\n",
       "      <td>0.0000</td>\n",
       "      <td>0.0000</td>\n",
       "      <td>...</td>\n",
       "      <td>0.0000</td>\n",
       "      <td>0.0000</td>\n",
       "      <td>0.0100</td>\n",
       "      <td>0.0000</td>\n",
       "      <td>1.0000</td>\n",
       "      <td>0.0000</td>\n",
       "      <td>0.0000</td>\n",
       "      <td>0.0000</td>\n",
       "      <td>0.0000</td>\n",
       "      <td>0.0000</td>\n",
       "    </tr>\n",
       "    <tr>\n",
       "      <td>25%</td>\n",
       "      <td>521104.0000</td>\n",
       "      <td>673215.0000</td>\n",
       "      <td>5600.0000</td>\n",
       "      <td>5500.0000</td>\n",
       "      <td>5000.0000</td>\n",
       "      <td>168.7600</td>\n",
       "      <td>41900.0000</td>\n",
       "      <td>8.2700</td>\n",
       "      <td>0.0000</td>\n",
       "      <td>0.0000</td>\n",
       "      <td>...</td>\n",
       "      <td>0.0000</td>\n",
       "      <td>0.0000</td>\n",
       "      <td>224.7700</td>\n",
       "      <td>0.0000</td>\n",
       "      <td>1.0000</td>\n",
       "      <td>0.0000</td>\n",
       "      <td>0.0000</td>\n",
       "      <td>0.0000</td>\n",
       "      <td>0.0000</td>\n",
       "      <td>0.0000</td>\n",
       "    </tr>\n",
       "    <tr>\n",
       "      <td>50%</td>\n",
       "      <td>669340.0000</td>\n",
       "      <td>855613.0000</td>\n",
       "      <td>10000.0000</td>\n",
       "      <td>10000.0000</td>\n",
       "      <td>9200.0000</td>\n",
       "      <td>283.2000</td>\n",
       "      <td>60000.0000</td>\n",
       "      <td>13.4700</td>\n",
       "      <td>0.0000</td>\n",
       "      <td>1.0000</td>\n",
       "      <td>...</td>\n",
       "      <td>0.0000</td>\n",
       "      <td>0.0000</td>\n",
       "      <td>563.4300</td>\n",
       "      <td>0.0000</td>\n",
       "      <td>1.0000</td>\n",
       "      <td>0.0000</td>\n",
       "      <td>0.0000</td>\n",
       "      <td>0.0000</td>\n",
       "      <td>0.0000</td>\n",
       "      <td>0.0000</td>\n",
       "    </tr>\n",
       "    <tr>\n",
       "      <td>75%</td>\n",
       "      <td>839303.0000</td>\n",
       "      <td>1049074.0000</td>\n",
       "      <td>15000.0000</td>\n",
       "      <td>15000.0000</td>\n",
       "      <td>14603.0623</td>\n",
       "      <td>434.7500</td>\n",
       "      <td>83500.0000</td>\n",
       "      <td>18.6300</td>\n",
       "      <td>0.0000</td>\n",
       "      <td>1.0000</td>\n",
       "      <td>...</td>\n",
       "      <td>0.0000</td>\n",
       "      <td>0.0000</td>\n",
       "      <td>3401.3300</td>\n",
       "      <td>0.0000</td>\n",
       "      <td>1.0000</td>\n",
       "      <td>0.0000</td>\n",
       "      <td>0.0000</td>\n",
       "      <td>0.0000</td>\n",
       "      <td>0.0000</td>\n",
       "      <td>0.0000</td>\n",
       "    </tr>\n",
       "    <tr>\n",
       "      <td>max</td>\n",
       "      <td>1077501.0000</td>\n",
       "      <td>1314167.0000</td>\n",
       "      <td>35000.0000</td>\n",
       "      <td>35000.0000</td>\n",
       "      <td>35000.0000</td>\n",
       "      <td>1305.1900</td>\n",
       "      <td>6000000.0000</td>\n",
       "      <td>29.9900</td>\n",
       "      <td>11.0000</td>\n",
       "      <td>8.0000</td>\n",
       "      <td>...</td>\n",
       "      <td>29623.3500</td>\n",
       "      <td>7002.1900</td>\n",
       "      <td>36115.2000</td>\n",
       "      <td>0.0000</td>\n",
       "      <td>1.0000</td>\n",
       "      <td>0.0000</td>\n",
       "      <td>0.0000</td>\n",
       "      <td>0.0000</td>\n",
       "      <td>2.0000</td>\n",
       "      <td>0.0000</td>\n",
       "    </tr>\n",
       "  </tbody>\n",
       "</table>\n",
       "<p>8 rows × 32 columns</p>\n",
       "</div>"
      ],
      "text/plain": [
       "                id    member_id  loan_amnt  funded_amnt  funded_amnt_inv  \\\n",
       "count   37833.0000   37833.0000 37833.0000   37833.0000       37833.0000   \n",
       "mean   690017.2714  859792.5021 11328.4328   11050.3793       10618.6332   \n",
       "std    202885.9503  254234.4735  7477.2734    7204.8821        7112.9011   \n",
       "min     54734.0000   80364.0000   500.0000     500.0000           0.0000   \n",
       "25%    521104.0000  673215.0000  5600.0000    5500.0000        5000.0000   \n",
       "50%    669340.0000  855613.0000 10000.0000   10000.0000        9200.0000   \n",
       "75%    839303.0000 1049074.0000 15000.0000   15000.0000       14603.0623   \n",
       "max   1077501.0000 1314167.0000 35000.0000   35000.0000       35000.0000   \n",
       "\n",
       "       installment   annual_inc        dti  delinq_2yrs  inq_last_6mths  ...  \\\n",
       "count   37833.0000   37833.0000 37833.0000   37833.0000      37833.0000  ...   \n",
       "mean      327.1402   69672.6446    13.3773       0.1458          0.8667  ...   \n",
       "std       209.0852   63644.6388     6.6561       0.4905          1.0664  ...   \n",
       "min        16.0800    4000.0000     0.0000       0.0000          0.0000  ...   \n",
       "25%       168.7600   41900.0000     8.2700       0.0000          0.0000  ...   \n",
       "50%       283.2000   60000.0000    13.4700       0.0000          1.0000  ...   \n",
       "75%       434.7500   83500.0000    18.6300       0.0000          1.0000  ...   \n",
       "max      1305.1900 6000000.0000    29.9900      11.0000          8.0000  ...   \n",
       "\n",
       "       recoveries  collection_recovery_fee  last_pymnt_amnt  \\\n",
       "count  37833.0000               37833.0000       37833.0000   \n",
       "mean      94.5497                  12.1337        2730.4979   \n",
       "std      690.3953                 148.1131        4489.6693   \n",
       "min        0.0000                   0.0000           0.0100   \n",
       "25%        0.0000                   0.0000         224.7700   \n",
       "50%        0.0000                   0.0000         563.4300   \n",
       "75%        0.0000                   0.0000        3401.3300   \n",
       "max    29623.3500                7002.1900       36115.2000   \n",
       "\n",
       "       collections_12_mths_ex_med  policy_code  acc_now_delinq  \\\n",
       "count                  37833.0000   37833.0000      37833.0000   \n",
       "mean                       0.0000       1.0000          0.0000   \n",
       "std                        0.0000       0.0000          0.0000   \n",
       "min                        0.0000       1.0000          0.0000   \n",
       "25%                        0.0000       1.0000          0.0000   \n",
       "50%                        0.0000       1.0000          0.0000   \n",
       "75%                        0.0000       1.0000          0.0000   \n",
       "max                        0.0000       1.0000          0.0000   \n",
       "\n",
       "       chargeoff_within_12_mths  delinq_amnt  pub_rec_bankruptcies  tax_liens  \n",
       "count                37833.0000   37833.0000            37833.0000 37833.0000  \n",
       "mean                     0.0000       0.0000                0.0414     0.0000  \n",
       "std                      0.0000       0.0000                0.2002     0.0000  \n",
       "min                      0.0000       0.0000                0.0000     0.0000  \n",
       "25%                      0.0000       0.0000                0.0000     0.0000  \n",
       "50%                      0.0000       0.0000                0.0000     0.0000  \n",
       "75%                      0.0000       0.0000                0.0000     0.0000  \n",
       "max                      0.0000       0.0000                2.0000     0.0000  \n",
       "\n",
       "[8 rows x 32 columns]"
      ]
     },
     "execution_count": 121,
     "metadata": {},
     "output_type": "execute_result"
    }
   ],
   "source": [
    "loans.describe()"
   ]
  },
  {
   "cell_type": "markdown",
   "metadata": {},
   "source": [
    "Checking unique values in `member_id`, `id`."
   ]
  },
  {
   "cell_type": "code",
   "execution_count": 127,
   "metadata": {},
   "outputs": [
    {
     "data": {
      "text/plain": [
       "37833"
      ]
     },
     "execution_count": 127,
     "metadata": {},
     "output_type": "execute_result"
    }
   ],
   "source": [
    "len(loans)"
   ]
  },
  {
   "cell_type": "code",
   "execution_count": 126,
   "metadata": {},
   "outputs": [
    {
     "data": {
      "text/plain": [
       "37833"
      ]
     },
     "execution_count": 126,
     "metadata": {},
     "output_type": "execute_result"
    }
   ],
   "source": [
    "loans['member_id'].nunique()"
   ]
  },
  {
   "cell_type": "code",
   "execution_count": 128,
   "metadata": {},
   "outputs": [
    {
     "data": {
      "text/plain": [
       "37833"
      ]
     },
     "execution_count": 128,
     "metadata": {},
     "output_type": "execute_result"
    }
   ],
   "source": [
    "loans['id'].nunique()"
   ]
  },
  {
   "cell_type": "markdown",
   "metadata": {},
   "source": [
    "We can delete `member_id` and `id` as they will not help in the analysis"
   ]
  },
  {
   "cell_type": "code",
   "execution_count": 129,
   "metadata": {},
   "outputs": [],
   "source": [
    "loans = loans.drop(['id'], axis=1)\n",
    "loans = loans.drop(['member_id'], axis=1)"
   ]
  },
  {
   "cell_type": "code",
   "execution_count": null,
   "metadata": {},
   "outputs": [],
   "source": []
  }
 ],
 "metadata": {
  "kernelspec": {
   "display_name": "Python 3",
   "language": "python",
   "name": "python3"
  },
  "language_info": {
   "codemirror_mode": {
    "name": "ipython",
    "version": 3
   },
   "file_extension": ".py",
   "mimetype": "text/x-python",
   "name": "python",
   "nbconvert_exporter": "python",
   "pygments_lexer": "ipython3",
   "version": "3.7.4"
  }
 },
 "nbformat": 4,
 "nbformat_minor": 2
}
