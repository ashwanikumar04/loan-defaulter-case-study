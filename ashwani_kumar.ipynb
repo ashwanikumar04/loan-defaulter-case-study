{
 "cells": [
  {
   "cell_type": "markdown",
   "metadata": {},
   "source": [
    "Description\n",
    "\n",
    "Problem statement\n",
    "\n",
    "End Result"
   ]
  },
  {
   "cell_type": "code",
   "execution_count": 1147,
   "metadata": {},
   "outputs": [],
   "source": [
    "import pandas as pd\n",
    "import numpy as np\n",
    "import matplotlib.pyplot as plt\n",
    "import seaborn as sns\n",
    "import os.path\n",
    "import json\n",
    "# setting display format so that large values are shown properly\n",
    "pd.set_option('display.float_format', lambda x: '%.4f' % x)\n",
    "\n",
    "plt.style.use('ggplot')"
   ]
  },
  {
   "cell_type": "code",
   "execution_count": 1148,
   "metadata": {},
   "outputs": [
    {
     "name": "stdout",
     "output_type": "stream",
     "text": [
      "loading from zip\n",
      "<class 'pandas.core.frame.DataFrame'>\n",
      "RangeIndex: 39717 entries, 0 to 39716\n",
      "Columns: 111 entries, id to total_il_high_credit_limit\n",
      "dtypes: float64(74), int64(13), object(24)\n",
      "memory usage: 33.6+ MB\n"
     ]
    }
   ],
   "source": [
    "if os.path.isfile('loan.csv'):\n",
    "    print(\"loading from csv\")\n",
    "    loans = pd.read_csv('loan.csv', low_memory=False, encoding='iso-8859-1')\n",
    "else:\n",
    "    print(\"loading from zip\")\n",
    "    loans = pd.read_csv('loan.zip',\n",
    "                        compression='zip',\n",
    "                        low_memory=False,\n",
    "                        encoding='iso-8859-1')\n",
    "\n",
    "loans.info()"
   ]
  },
  {
   "cell_type": "markdown",
   "metadata": {},
   "source": [
    "Getting basic info about the data"
   ]
  },
  {
   "cell_type": "code",
   "execution_count": 1149,
   "metadata": {},
   "outputs": [
    {
     "name": "stdout",
     "output_type": "stream",
     "text": [
      "<class 'pandas.core.frame.DataFrame'>\n",
      "RangeIndex: 39717 entries, 0 to 39716\n",
      "Data columns (total 111 columns):\n",
      "id                                int64\n",
      "member_id                         int64\n",
      "loan_amnt                         int64\n",
      "funded_amnt                       int64\n",
      "funded_amnt_inv                   float64\n",
      "term                              object\n",
      "int_rate                          object\n",
      "installment                       float64\n",
      "grade                             object\n",
      "sub_grade                         object\n",
      "emp_title                         object\n",
      "emp_length                        object\n",
      "home_ownership                    object\n",
      "annual_inc                        float64\n",
      "verification_status               object\n",
      "issue_d                           object\n",
      "loan_status                       object\n",
      "pymnt_plan                        object\n",
      "url                               object\n",
      "desc                              object\n",
      "purpose                           object\n",
      "title                             object\n",
      "zip_code                          object\n",
      "addr_state                        object\n",
      "dti                               float64\n",
      "delinq_2yrs                       int64\n",
      "earliest_cr_line                  object\n",
      "inq_last_6mths                    int64\n",
      "mths_since_last_delinq            float64\n",
      "mths_since_last_record            float64\n",
      "open_acc                          int64\n",
      "pub_rec                           int64\n",
      "revol_bal                         int64\n",
      "revol_util                        object\n",
      "total_acc                         int64\n",
      "initial_list_status               object\n",
      "out_prncp                         float64\n",
      "out_prncp_inv                     float64\n",
      "total_pymnt                       float64\n",
      "total_pymnt_inv                   float64\n",
      "total_rec_prncp                   float64\n",
      "total_rec_int                     float64\n",
      "total_rec_late_fee                float64\n",
      "recoveries                        float64\n",
      "collection_recovery_fee           float64\n",
      "last_pymnt_d                      object\n",
      "last_pymnt_amnt                   float64\n",
      "next_pymnt_d                      object\n",
      "last_credit_pull_d                object\n",
      "collections_12_mths_ex_med        float64\n",
      "mths_since_last_major_derog       float64\n",
      "policy_code                       int64\n",
      "application_type                  object\n",
      "annual_inc_joint                  float64\n",
      "dti_joint                         float64\n",
      "verification_status_joint         float64\n",
      "acc_now_delinq                    int64\n",
      "tot_coll_amt                      float64\n",
      "tot_cur_bal                       float64\n",
      "open_acc_6m                       float64\n",
      "open_il_6m                        float64\n",
      "open_il_12m                       float64\n",
      "open_il_24m                       float64\n",
      "mths_since_rcnt_il                float64\n",
      "total_bal_il                      float64\n",
      "il_util                           float64\n",
      "open_rv_12m                       float64\n",
      "open_rv_24m                       float64\n",
      "max_bal_bc                        float64\n",
      "all_util                          float64\n",
      "total_rev_hi_lim                  float64\n",
      "inq_fi                            float64\n",
      "total_cu_tl                       float64\n",
      "inq_last_12m                      float64\n",
      "acc_open_past_24mths              float64\n",
      "avg_cur_bal                       float64\n",
      "bc_open_to_buy                    float64\n",
      "bc_util                           float64\n",
      "chargeoff_within_12_mths          float64\n",
      "delinq_amnt                       int64\n",
      "mo_sin_old_il_acct                float64\n",
      "mo_sin_old_rev_tl_op              float64\n",
      "mo_sin_rcnt_rev_tl_op             float64\n",
      "mo_sin_rcnt_tl                    float64\n",
      "mort_acc                          float64\n",
      "mths_since_recent_bc              float64\n",
      "mths_since_recent_bc_dlq          float64\n",
      "mths_since_recent_inq             float64\n",
      "mths_since_recent_revol_delinq    float64\n",
      "num_accts_ever_120_pd             float64\n",
      "num_actv_bc_tl                    float64\n",
      "num_actv_rev_tl                   float64\n",
      "num_bc_sats                       float64\n",
      "num_bc_tl                         float64\n",
      "num_il_tl                         float64\n",
      "num_op_rev_tl                     float64\n",
      "num_rev_accts                     float64\n",
      "num_rev_tl_bal_gt_0               float64\n",
      "num_sats                          float64\n",
      "num_tl_120dpd_2m                  float64\n",
      "num_tl_30dpd                      float64\n",
      "num_tl_90g_dpd_24m                float64\n",
      "num_tl_op_past_12m                float64\n",
      "pct_tl_nvr_dlq                    float64\n",
      "percent_bc_gt_75                  float64\n",
      "pub_rec_bankruptcies              float64\n",
      "tax_liens                         float64\n",
      "tot_hi_cred_lim                   float64\n",
      "total_bal_ex_mort                 float64\n",
      "total_bc_limit                    float64\n",
      "total_il_high_credit_limit        float64\n",
      "dtypes: float64(74), int64(13), object(24)\n",
      "memory usage: 33.6+ MB\n"
     ]
    }
   ],
   "source": [
    "loans.info(verbose=True)"
   ]
  },
  {
   "cell_type": "markdown",
   "metadata": {},
   "source": [
    "Showing the counts of entries per column"
   ]
  },
  {
   "cell_type": "code",
   "execution_count": 1150,
   "metadata": {},
   "outputs": [
    {
     "data": {
      "text/plain": [
       "id                            39717\n",
       "member_id                     39717\n",
       "loan_amnt                     39717\n",
       "funded_amnt                   39717\n",
       "funded_amnt_inv               39717\n",
       "                              ...  \n",
       "tax_liens                     39678\n",
       "tot_hi_cred_lim                   0\n",
       "total_bal_ex_mort                 0\n",
       "total_bc_limit                    0\n",
       "total_il_high_credit_limit        0\n",
       "Length: 111, dtype: int64"
      ]
     },
     "execution_count": 1150,
     "metadata": {},
     "output_type": "execute_result"
    }
   ],
   "source": [
    "loans.count()"
   ]
  },
  {
   "cell_type": "code",
   "execution_count": 1151,
   "metadata": {},
   "outputs": [
    {
     "name": "stdout",
     "output_type": "stream",
     "text": [
      "id                                0\n",
      "member_id                         0\n",
      "loan_amnt                         0\n",
      "funded_amnt                       0\n",
      "funded_amnt_inv                   0\n",
      "                              ...  \n",
      "tax_liens                        39\n",
      "tot_hi_cred_lim               39717\n",
      "total_bal_ex_mort             39717\n",
      "total_bc_limit                39717\n",
      "total_il_high_credit_limit    39717\n",
      "Length: 111, dtype: int64\n"
     ]
    }
   ],
   "source": [
    "num_rows = loans.shape[0]\n",
    "num_missing = num_rows - loans.count()\n",
    "print(num_missing)"
   ]
  },
  {
   "cell_type": "code",
   "execution_count": 1152,
   "metadata": {},
   "outputs": [
    {
     "data": {
      "text/plain": [
       "id                                0\n",
       "member_id                         0\n",
       "loan_amnt                         0\n",
       "funded_amnt                       0\n",
       "funded_amnt_inv                   0\n",
       "                              ...  \n",
       "tax_liens                        39\n",
       "tot_hi_cred_lim               39717\n",
       "total_bal_ex_mort             39717\n",
       "total_bc_limit                39717\n",
       "total_il_high_credit_limit    39717\n",
       "Length: 111, dtype: int64"
      ]
     },
     "execution_count": 1152,
     "metadata": {},
     "output_type": "execute_result"
    }
   ],
   "source": [
    "loans.isnull().sum()"
   ]
  },
  {
   "cell_type": "markdown",
   "metadata": {},
   "source": [
    "### Finding columns which have NAN"
   ]
  },
  {
   "cell_type": "code",
   "execution_count": 1153,
   "metadata": {},
   "outputs": [],
   "source": [
    "def get_columns_with_nan_percentage(df):\n",
    "    nan_cols = [{\n",
    "            \"column\":c,\n",
    "            \"percentage\":round(100*(df[c].isnull().sum()/len(df[c].index)), 2)\n",
    "            } for c in df.columns if round(100*(df[c].isnull().sum()/len(df[c].index)), 2)>0]\n",
    "    return pd.DataFrame.from_records(nan_cols)"
   ]
  },
  {
   "cell_type": "code",
   "execution_count": 1154,
   "metadata": {},
   "outputs": [
    {
     "data": {
      "text/html": [
       "<div>\n",
       "<style scoped>\n",
       "    .dataframe tbody tr th:only-of-type {\n",
       "        vertical-align: middle;\n",
       "    }\n",
       "\n",
       "    .dataframe tbody tr th {\n",
       "        vertical-align: top;\n",
       "    }\n",
       "\n",
       "    .dataframe thead th {\n",
       "        text-align: right;\n",
       "    }\n",
       "</style>\n",
       "<table border=\"1\" class=\"dataframe\">\n",
       "  <thead>\n",
       "    <tr style=\"text-align: right;\">\n",
       "      <th></th>\n",
       "      <th>column</th>\n",
       "      <th>percentage</th>\n",
       "    </tr>\n",
       "  </thead>\n",
       "  <tbody>\n",
       "    <tr>\n",
       "      <td>0</td>\n",
       "      <td>emp_title</td>\n",
       "      <td>6.1900</td>\n",
       "    </tr>\n",
       "    <tr>\n",
       "      <td>1</td>\n",
       "      <td>emp_length</td>\n",
       "      <td>2.7100</td>\n",
       "    </tr>\n",
       "    <tr>\n",
       "      <td>2</td>\n",
       "      <td>desc</td>\n",
       "      <td>32.5800</td>\n",
       "    </tr>\n",
       "    <tr>\n",
       "      <td>3</td>\n",
       "      <td>title</td>\n",
       "      <td>0.0300</td>\n",
       "    </tr>\n",
       "    <tr>\n",
       "      <td>4</td>\n",
       "      <td>mths_since_last_delinq</td>\n",
       "      <td>64.6600</td>\n",
       "    </tr>\n",
       "    <tr>\n",
       "      <td>...</td>\n",
       "      <td>...</td>\n",
       "      <td>...</td>\n",
       "    </tr>\n",
       "    <tr>\n",
       "      <td>63</td>\n",
       "      <td>tax_liens</td>\n",
       "      <td>0.1000</td>\n",
       "    </tr>\n",
       "    <tr>\n",
       "      <td>64</td>\n",
       "      <td>tot_hi_cred_lim</td>\n",
       "      <td>100.0000</td>\n",
       "    </tr>\n",
       "    <tr>\n",
       "      <td>65</td>\n",
       "      <td>total_bal_ex_mort</td>\n",
       "      <td>100.0000</td>\n",
       "    </tr>\n",
       "    <tr>\n",
       "      <td>66</td>\n",
       "      <td>total_bc_limit</td>\n",
       "      <td>100.0000</td>\n",
       "    </tr>\n",
       "    <tr>\n",
       "      <td>67</td>\n",
       "      <td>total_il_high_credit_limit</td>\n",
       "      <td>100.0000</td>\n",
       "    </tr>\n",
       "  </tbody>\n",
       "</table>\n",
       "<p>68 rows × 2 columns</p>\n",
       "</div>"
      ],
      "text/plain": [
       "                        column  percentage\n",
       "0                    emp_title      6.1900\n",
       "1                   emp_length      2.7100\n",
       "2                         desc     32.5800\n",
       "3                        title      0.0300\n",
       "4       mths_since_last_delinq     64.6600\n",
       "..                         ...         ...\n",
       "63                   tax_liens      0.1000\n",
       "64             tot_hi_cred_lim    100.0000\n",
       "65           total_bal_ex_mort    100.0000\n",
       "66              total_bc_limit    100.0000\n",
       "67  total_il_high_credit_limit    100.0000\n",
       "\n",
       "[68 rows x 2 columns]"
      ]
     },
     "execution_count": 1154,
     "metadata": {},
     "output_type": "execute_result"
    }
   ],
   "source": [
    "get_columns_with_nan_percentage(loans)"
   ]
  },
  {
   "cell_type": "markdown",
   "metadata": {},
   "source": [
    "#### Deleting columns which have 100% NAN"
   ]
  },
  {
   "cell_type": "code",
   "execution_count": 1155,
   "metadata": {},
   "outputs": [
    {
     "data": {
      "text/html": [
       "<div>\n",
       "<style scoped>\n",
       "    .dataframe tbody tr th:only-of-type {\n",
       "        vertical-align: middle;\n",
       "    }\n",
       "\n",
       "    .dataframe tbody tr th {\n",
       "        vertical-align: top;\n",
       "    }\n",
       "\n",
       "    .dataframe thead th {\n",
       "        text-align: right;\n",
       "    }\n",
       "</style>\n",
       "<table border=\"1\" class=\"dataframe\">\n",
       "  <thead>\n",
       "    <tr style=\"text-align: right;\">\n",
       "      <th></th>\n",
       "      <th>column</th>\n",
       "      <th>percentage</th>\n",
       "    </tr>\n",
       "  </thead>\n",
       "  <tbody>\n",
       "    <tr>\n",
       "      <td>0</td>\n",
       "      <td>emp_title</td>\n",
       "      <td>6.1900</td>\n",
       "    </tr>\n",
       "    <tr>\n",
       "      <td>1</td>\n",
       "      <td>emp_length</td>\n",
       "      <td>2.7100</td>\n",
       "    </tr>\n",
       "    <tr>\n",
       "      <td>2</td>\n",
       "      <td>desc</td>\n",
       "      <td>32.5800</td>\n",
       "    </tr>\n",
       "    <tr>\n",
       "      <td>3</td>\n",
       "      <td>title</td>\n",
       "      <td>0.0300</td>\n",
       "    </tr>\n",
       "    <tr>\n",
       "      <td>4</td>\n",
       "      <td>mths_since_last_delinq</td>\n",
       "      <td>64.6600</td>\n",
       "    </tr>\n",
       "    <tr>\n",
       "      <td>5</td>\n",
       "      <td>mths_since_last_record</td>\n",
       "      <td>92.9900</td>\n",
       "    </tr>\n",
       "    <tr>\n",
       "      <td>6</td>\n",
       "      <td>revol_util</td>\n",
       "      <td>0.1300</td>\n",
       "    </tr>\n",
       "    <tr>\n",
       "      <td>7</td>\n",
       "      <td>last_pymnt_d</td>\n",
       "      <td>0.1800</td>\n",
       "    </tr>\n",
       "    <tr>\n",
       "      <td>8</td>\n",
       "      <td>next_pymnt_d</td>\n",
       "      <td>97.1300</td>\n",
       "    </tr>\n",
       "    <tr>\n",
       "      <td>9</td>\n",
       "      <td>last_credit_pull_d</td>\n",
       "      <td>0.0100</td>\n",
       "    </tr>\n",
       "    <tr>\n",
       "      <td>10</td>\n",
       "      <td>collections_12_mths_ex_med</td>\n",
       "      <td>0.1400</td>\n",
       "    </tr>\n",
       "    <tr>\n",
       "      <td>11</td>\n",
       "      <td>chargeoff_within_12_mths</td>\n",
       "      <td>0.1400</td>\n",
       "    </tr>\n",
       "    <tr>\n",
       "      <td>12</td>\n",
       "      <td>pub_rec_bankruptcies</td>\n",
       "      <td>1.7500</td>\n",
       "    </tr>\n",
       "    <tr>\n",
       "      <td>13</td>\n",
       "      <td>tax_liens</td>\n",
       "      <td>0.1000</td>\n",
       "    </tr>\n",
       "  </tbody>\n",
       "</table>\n",
       "</div>"
      ],
      "text/plain": [
       "                        column  percentage\n",
       "0                    emp_title      6.1900\n",
       "1                   emp_length      2.7100\n",
       "2                         desc     32.5800\n",
       "3                        title      0.0300\n",
       "4       mths_since_last_delinq     64.6600\n",
       "5       mths_since_last_record     92.9900\n",
       "6                   revol_util      0.1300\n",
       "7                 last_pymnt_d      0.1800\n",
       "8                 next_pymnt_d     97.1300\n",
       "9           last_credit_pull_d      0.0100\n",
       "10  collections_12_mths_ex_med      0.1400\n",
       "11    chargeoff_within_12_mths      0.1400\n",
       "12        pub_rec_bankruptcies      1.7500\n",
       "13                   tax_liens      0.1000"
      ]
     },
     "execution_count": 1155,
     "metadata": {},
     "output_type": "execute_result"
    }
   ],
   "source": [
    "loans = loans.dropna(how='all', axis=1)\n",
    "get_columns_with_nan_percentage(loans)"
   ]
  },
  {
   "cell_type": "markdown",
   "metadata": {},
   "source": [
    "#### Deleting columns with more than 90% empty values"
   ]
  },
  {
   "cell_type": "code",
   "execution_count": 1156,
   "metadata": {},
   "outputs": [
    {
     "data": {
      "text/html": [
       "<div>\n",
       "<style scoped>\n",
       "    .dataframe tbody tr th:only-of-type {\n",
       "        vertical-align: middle;\n",
       "    }\n",
       "\n",
       "    .dataframe tbody tr th {\n",
       "        vertical-align: top;\n",
       "    }\n",
       "\n",
       "    .dataframe thead th {\n",
       "        text-align: right;\n",
       "    }\n",
       "</style>\n",
       "<table border=\"1\" class=\"dataframe\">\n",
       "  <thead>\n",
       "    <tr style=\"text-align: right;\">\n",
       "      <th></th>\n",
       "      <th>column</th>\n",
       "      <th>percentage</th>\n",
       "    </tr>\n",
       "  </thead>\n",
       "  <tbody>\n",
       "    <tr>\n",
       "      <td>0</td>\n",
       "      <td>emp_title</td>\n",
       "      <td>6.1900</td>\n",
       "    </tr>\n",
       "    <tr>\n",
       "      <td>1</td>\n",
       "      <td>emp_length</td>\n",
       "      <td>2.7100</td>\n",
       "    </tr>\n",
       "    <tr>\n",
       "      <td>2</td>\n",
       "      <td>desc</td>\n",
       "      <td>32.5800</td>\n",
       "    </tr>\n",
       "    <tr>\n",
       "      <td>3</td>\n",
       "      <td>title</td>\n",
       "      <td>0.0300</td>\n",
       "    </tr>\n",
       "    <tr>\n",
       "      <td>4</td>\n",
       "      <td>mths_since_last_delinq</td>\n",
       "      <td>64.6600</td>\n",
       "    </tr>\n",
       "    <tr>\n",
       "      <td>5</td>\n",
       "      <td>revol_util</td>\n",
       "      <td>0.1300</td>\n",
       "    </tr>\n",
       "    <tr>\n",
       "      <td>6</td>\n",
       "      <td>last_pymnt_d</td>\n",
       "      <td>0.1800</td>\n",
       "    </tr>\n",
       "    <tr>\n",
       "      <td>7</td>\n",
       "      <td>last_credit_pull_d</td>\n",
       "      <td>0.0100</td>\n",
       "    </tr>\n",
       "    <tr>\n",
       "      <td>8</td>\n",
       "      <td>collections_12_mths_ex_med</td>\n",
       "      <td>0.1400</td>\n",
       "    </tr>\n",
       "    <tr>\n",
       "      <td>9</td>\n",
       "      <td>chargeoff_within_12_mths</td>\n",
       "      <td>0.1400</td>\n",
       "    </tr>\n",
       "    <tr>\n",
       "      <td>10</td>\n",
       "      <td>pub_rec_bankruptcies</td>\n",
       "      <td>1.7500</td>\n",
       "    </tr>\n",
       "    <tr>\n",
       "      <td>11</td>\n",
       "      <td>tax_liens</td>\n",
       "      <td>0.1000</td>\n",
       "    </tr>\n",
       "  </tbody>\n",
       "</table>\n",
       "</div>"
      ],
      "text/plain": [
       "                        column  percentage\n",
       "0                    emp_title      6.1900\n",
       "1                   emp_length      2.7100\n",
       "2                         desc     32.5800\n",
       "3                        title      0.0300\n",
       "4       mths_since_last_delinq     64.6600\n",
       "5                   revol_util      0.1300\n",
       "6                 last_pymnt_d      0.1800\n",
       "7           last_credit_pull_d      0.0100\n",
       "8   collections_12_mths_ex_med      0.1400\n",
       "9     chargeoff_within_12_mths      0.1400\n",
       "10        pub_rec_bankruptcies      1.7500\n",
       "11                   tax_liens      0.1000"
      ]
     },
     "execution_count": 1156,
     "metadata": {},
     "output_type": "execute_result"
    }
   ],
   "source": [
    "loans = loans.drop(['next_pymnt_d', 'mths_since_last_record'], axis=1)\n",
    "get_columns_with_nan_percentage(loans)"
   ]
  },
  {
   "cell_type": "markdown",
   "metadata": {},
   "source": [
    "#### Deleting not useful columns like `desc`"
   ]
  },
  {
   "cell_type": "code",
   "execution_count": 1157,
   "metadata": {},
   "outputs": [
    {
     "data": {
      "text/html": [
       "<div>\n",
       "<style scoped>\n",
       "    .dataframe tbody tr th:only-of-type {\n",
       "        vertical-align: middle;\n",
       "    }\n",
       "\n",
       "    .dataframe tbody tr th {\n",
       "        vertical-align: top;\n",
       "    }\n",
       "\n",
       "    .dataframe thead th {\n",
       "        text-align: right;\n",
       "    }\n",
       "</style>\n",
       "<table border=\"1\" class=\"dataframe\">\n",
       "  <thead>\n",
       "    <tr style=\"text-align: right;\">\n",
       "      <th></th>\n",
       "      <th>column</th>\n",
       "      <th>percentage</th>\n",
       "    </tr>\n",
       "  </thead>\n",
       "  <tbody>\n",
       "    <tr>\n",
       "      <td>0</td>\n",
       "      <td>emp_title</td>\n",
       "      <td>6.1900</td>\n",
       "    </tr>\n",
       "    <tr>\n",
       "      <td>1</td>\n",
       "      <td>emp_length</td>\n",
       "      <td>2.7100</td>\n",
       "    </tr>\n",
       "    <tr>\n",
       "      <td>2</td>\n",
       "      <td>title</td>\n",
       "      <td>0.0300</td>\n",
       "    </tr>\n",
       "    <tr>\n",
       "      <td>3</td>\n",
       "      <td>mths_since_last_delinq</td>\n",
       "      <td>64.6600</td>\n",
       "    </tr>\n",
       "    <tr>\n",
       "      <td>4</td>\n",
       "      <td>revol_util</td>\n",
       "      <td>0.1300</td>\n",
       "    </tr>\n",
       "    <tr>\n",
       "      <td>5</td>\n",
       "      <td>last_pymnt_d</td>\n",
       "      <td>0.1800</td>\n",
       "    </tr>\n",
       "    <tr>\n",
       "      <td>6</td>\n",
       "      <td>last_credit_pull_d</td>\n",
       "      <td>0.0100</td>\n",
       "    </tr>\n",
       "    <tr>\n",
       "      <td>7</td>\n",
       "      <td>collections_12_mths_ex_med</td>\n",
       "      <td>0.1400</td>\n",
       "    </tr>\n",
       "    <tr>\n",
       "      <td>8</td>\n",
       "      <td>chargeoff_within_12_mths</td>\n",
       "      <td>0.1400</td>\n",
       "    </tr>\n",
       "    <tr>\n",
       "      <td>9</td>\n",
       "      <td>pub_rec_bankruptcies</td>\n",
       "      <td>1.7500</td>\n",
       "    </tr>\n",
       "    <tr>\n",
       "      <td>10</td>\n",
       "      <td>tax_liens</td>\n",
       "      <td>0.1000</td>\n",
       "    </tr>\n",
       "  </tbody>\n",
       "</table>\n",
       "</div>"
      ],
      "text/plain": [
       "                        column  percentage\n",
       "0                    emp_title      6.1900\n",
       "1                   emp_length      2.7100\n",
       "2                        title      0.0300\n",
       "3       mths_since_last_delinq     64.6600\n",
       "4                   revol_util      0.1300\n",
       "5                 last_pymnt_d      0.1800\n",
       "6           last_credit_pull_d      0.0100\n",
       "7   collections_12_mths_ex_med      0.1400\n",
       "8     chargeoff_within_12_mths      0.1400\n",
       "9         pub_rec_bankruptcies      1.7500\n",
       "10                   tax_liens      0.1000"
      ]
     },
     "execution_count": 1157,
     "metadata": {},
     "output_type": "execute_result"
    }
   ],
   "source": [
    "loans = loans.drop(['desc'], axis=1)\n",
    "get_columns_with_nan_percentage(loans)"
   ]
  },
  {
   "cell_type": "markdown",
   "metadata": {},
   "source": [
    "#### Deleting rows where `revol_util`, `last_pymnt_d`,`last_credit_pull_d`, `collections_12_mths_ex_med`, `chargeoff_within_12_mths`, `pub_rec_bankruptcies` or `tax_liens` is NAN"
   ]
  },
  {
   "cell_type": "code",
   "execution_count": 1158,
   "metadata": {},
   "outputs": [
    {
     "data": {
      "text/html": [
       "<div>\n",
       "<style scoped>\n",
       "    .dataframe tbody tr th:only-of-type {\n",
       "        vertical-align: middle;\n",
       "    }\n",
       "\n",
       "    .dataframe tbody tr th {\n",
       "        vertical-align: top;\n",
       "    }\n",
       "\n",
       "    .dataframe thead th {\n",
       "        text-align: right;\n",
       "    }\n",
       "</style>\n",
       "<table border=\"1\" class=\"dataframe\">\n",
       "  <thead>\n",
       "    <tr style=\"text-align: right;\">\n",
       "      <th></th>\n",
       "      <th>column</th>\n",
       "      <th>percentage</th>\n",
       "    </tr>\n",
       "  </thead>\n",
       "  <tbody>\n",
       "    <tr>\n",
       "      <td>0</td>\n",
       "      <td>emp_title</td>\n",
       "      <td>6.1800</td>\n",
       "    </tr>\n",
       "    <tr>\n",
       "      <td>1</td>\n",
       "      <td>emp_length</td>\n",
       "      <td>2.7400</td>\n",
       "    </tr>\n",
       "    <tr>\n",
       "      <td>2</td>\n",
       "      <td>title</td>\n",
       "      <td>0.0300</td>\n",
       "    </tr>\n",
       "    <tr>\n",
       "      <td>3</td>\n",
       "      <td>mths_since_last_delinq</td>\n",
       "      <td>65.7900</td>\n",
       "    </tr>\n",
       "  </tbody>\n",
       "</table>\n",
       "</div>"
      ],
      "text/plain": [
       "                   column  percentage\n",
       "0               emp_title      6.1800\n",
       "1              emp_length      2.7400\n",
       "2                   title      0.0300\n",
       "3  mths_since_last_delinq     65.7900"
      ]
     },
     "execution_count": 1158,
     "metadata": {},
     "output_type": "execute_result"
    }
   ],
   "source": [
    "loans = loans[~loans['revol_util'].isnull()]\n",
    "loans = loans[~loans['last_pymnt_d'].isnull()]\n",
    "loans = loans[~loans['last_credit_pull_d'].isnull()]\n",
    "loans = loans[~loans['collections_12_mths_ex_med'].isnull()]\n",
    "loans = loans[~loans['chargeoff_within_12_mths'].isnull()]\n",
    "loans = loans[~loans['pub_rec_bankruptcies'].isnull()]\n",
    "loans = loans[~loans['tax_liens'].isnull()]\n",
    "\n",
    "get_columns_with_nan_percentage(loans)"
   ]
  },
  {
   "cell_type": "code",
   "execution_count": 1159,
   "metadata": {},
   "outputs": [],
   "source": [
    "loans = loans.drop(['emp_title', 'url'], axis=1)"
   ]
  },
  {
   "cell_type": "code",
   "execution_count": 1160,
   "metadata": {},
   "outputs": [
    {
     "data": {
      "text/plain": [
       "10+ years    8750\n",
       "< 1 year     4397\n",
       "2 years      4291\n",
       "3 years      4023\n",
       "4 years      3377\n",
       "5 years      3235\n",
       "1 year       3133\n",
       "6 years      2193\n",
       "7 years      1747\n",
       "8 years      1449\n",
       "9 years      1238\n",
       "Name: emp_length, dtype: int64"
      ]
     },
     "execution_count": 1160,
     "metadata": {},
     "output_type": "execute_result"
    }
   ],
   "source": [
    "loans['emp_length'].value_counts()"
   ]
  },
  {
   "cell_type": "markdown",
   "metadata": {},
   "source": [
    "`emp_length` is a ordinal categorical variable, however only 2.74% rows does not have this column, we can drop such rows as even after this we will have a descent data size"
   ]
  },
  {
   "cell_type": "code",
   "execution_count": 1161,
   "metadata": {},
   "outputs": [
    {
     "data": {
      "text/html": [
       "<div>\n",
       "<style scoped>\n",
       "    .dataframe tbody tr th:only-of-type {\n",
       "        vertical-align: middle;\n",
       "    }\n",
       "\n",
       "    .dataframe tbody tr th {\n",
       "        vertical-align: top;\n",
       "    }\n",
       "\n",
       "    .dataframe thead th {\n",
       "        text-align: right;\n",
       "    }\n",
       "</style>\n",
       "<table border=\"1\" class=\"dataframe\">\n",
       "  <thead>\n",
       "    <tr style=\"text-align: right;\">\n",
       "      <th></th>\n",
       "      <th>column</th>\n",
       "      <th>percentage</th>\n",
       "    </tr>\n",
       "  </thead>\n",
       "  <tbody>\n",
       "    <tr>\n",
       "      <td>0</td>\n",
       "      <td>title</td>\n",
       "      <td>0.0300</td>\n",
       "    </tr>\n",
       "    <tr>\n",
       "      <td>1</td>\n",
       "      <td>mths_since_last_delinq</td>\n",
       "      <td>65.7400</td>\n",
       "    </tr>\n",
       "  </tbody>\n",
       "</table>\n",
       "</div>"
      ],
      "text/plain": [
       "                   column  percentage\n",
       "0                   title      0.0300\n",
       "1  mths_since_last_delinq     65.7400"
      ]
     },
     "execution_count": 1161,
     "metadata": {},
     "output_type": "execute_result"
    }
   ],
   "source": [
    "loans = loans[~loans['emp_length'].isnull()]\n",
    "get_columns_with_nan_percentage(loans)"
   ]
  },
  {
   "cell_type": "markdown",
   "metadata": {},
   "source": [
    "Dropping `mths_since_last_delinq` as **~65%** are NAN "
   ]
  },
  {
   "cell_type": "code",
   "execution_count": 1162,
   "metadata": {},
   "outputs": [],
   "source": [
    "loans = loans.drop(['mths_since_last_delinq'], axis=1)"
   ]
  },
  {
   "cell_type": "code",
   "execution_count": 1163,
   "metadata": {},
   "outputs": [
    {
     "data": {
      "text/plain": [
       "18675"
      ]
     },
     "execution_count": 1163,
     "metadata": {},
     "output_type": "execute_result"
    }
   ],
   "source": [
    "loans['title'].nunique()"
   ]
  },
  {
   "cell_type": "markdown",
   "metadata": {},
   "source": [
    "We can delete `member_id`, `id`, `title` and `zip_code` as they will not help in the analysis"
   ]
  },
  {
   "cell_type": "code",
   "execution_count": 1164,
   "metadata": {},
   "outputs": [],
   "source": [
    "loans = loans.drop(['id', 'member_id', 'title', 'zip_code'], axis=1)"
   ]
  },
  {
   "cell_type": "markdown",
   "metadata": {},
   "source": [
    "Find columns with less than 1 unique values"
   ]
  },
  {
   "cell_type": "code",
   "execution_count": 1165,
   "metadata": {
    "scrolled": true
   },
   "outputs": [
    {
     "data": {
      "text/plain": [
       "Index(['pymnt_plan', 'initial_list_status', 'collections_12_mths_ex_med',\n",
       "       'policy_code', 'application_type', 'acc_now_delinq',\n",
       "       'chargeoff_within_12_mths', 'delinq_amnt', 'tax_liens'],\n",
       "      dtype='object')"
      ]
     },
     "execution_count": 1165,
     "metadata": {},
     "output_type": "execute_result"
    }
   ],
   "source": [
    "loans.columns[loans.nunique() <= 1]"
   ]
  },
  {
   "cell_type": "code",
   "execution_count": 1166,
   "metadata": {},
   "outputs": [],
   "source": [
    "loans = loans.drop(loans.columns[loans.apply(lambda col:(len(col.unique())<=1))], axis=1)"
   ]
  },
  {
   "cell_type": "markdown",
   "metadata": {},
   "source": [
    "Deleting all rows where the status is `current`"
   ]
  },
  {
   "cell_type": "code",
   "execution_count": 1167,
   "metadata": {},
   "outputs": [],
   "source": [
    "loans = loans[~(loans['loan_status'] == 'Current')]\n",
    "loans['loan_defaulted'] = loans['loan_status'].apply(\n",
    "    lambda x: 1 if x == 'Charged Off' else 0)"
   ]
  },
  {
   "cell_type": "markdown",
   "metadata": {},
   "source": [
    "### As we have deleted all the *current* loans, we can drop column `out_prncp` and `out_prncp_inv` since they have only **0**"
   ]
  },
  {
   "cell_type": "code",
   "execution_count": 1168,
   "metadata": {},
   "outputs": [],
   "source": [
    "loans = loans.drop(['out_prncp', 'out_prncp_inv'], axis=1)"
   ]
  },
  {
   "cell_type": "markdown",
   "metadata": {},
   "source": [
    "Deleting `pub_rec`, `last_credit_pull_d`, `last_pymnt_amnt` and `last_pymnt_d` as they will not provide any insight in the defaulter pattern"
   ]
  },
  {
   "cell_type": "code",
   "execution_count": 1169,
   "metadata": {},
   "outputs": [],
   "source": [
    "loans = loans.drop(['pub_rec', 'last_credit_pull_d',\n",
    "                    'last_pymnt_amnt', 'last_pymnt_d'], axis=1)"
   ]
  },
  {
   "cell_type": "code",
   "execution_count": 1170,
   "metadata": {},
   "outputs": [
    {
     "name": "stdout",
     "output_type": "stream",
     "text": [
      "<class 'pandas.core.frame.DataFrame'>\n",
      "Int64Index: 36735 entries, 0 to 39623\n",
      "Data columns (total 33 columns):\n",
      "loan_amnt                  36735 non-null int64\n",
      "funded_amnt                36735 non-null int64\n",
      "funded_amnt_inv            36735 non-null float64\n",
      "term                       36735 non-null object\n",
      "int_rate                   36735 non-null object\n",
      "installment                36735 non-null float64\n",
      "grade                      36735 non-null object\n",
      "sub_grade                  36735 non-null object\n",
      "emp_length                 36735 non-null object\n",
      "home_ownership             36735 non-null object\n",
      "annual_inc                 36735 non-null float64\n",
      "verification_status        36735 non-null object\n",
      "issue_d                    36735 non-null object\n",
      "loan_status                36735 non-null object\n",
      "purpose                    36735 non-null object\n",
      "addr_state                 36735 non-null object\n",
      "dti                        36735 non-null float64\n",
      "delinq_2yrs                36735 non-null int64\n",
      "earliest_cr_line           36735 non-null object\n",
      "inq_last_6mths             36735 non-null int64\n",
      "open_acc                   36735 non-null int64\n",
      "revol_bal                  36735 non-null int64\n",
      "revol_util                 36735 non-null object\n",
      "total_acc                  36735 non-null int64\n",
      "total_pymnt                36735 non-null float64\n",
      "total_pymnt_inv            36735 non-null float64\n",
      "total_rec_prncp            36735 non-null float64\n",
      "total_rec_int              36735 non-null float64\n",
      "total_rec_late_fee         36735 non-null float64\n",
      "recoveries                 36735 non-null float64\n",
      "collection_recovery_fee    36735 non-null float64\n",
      "pub_rec_bankruptcies       36735 non-null float64\n",
      "loan_defaulted             36735 non-null int64\n",
      "dtypes: float64(12), int64(8), object(13)\n",
      "memory usage: 9.5+ MB\n"
     ]
    }
   ],
   "source": [
    "loans.info(verbose=True)"
   ]
  },
  {
   "cell_type": "code",
   "execution_count": 1230,
   "metadata": {},
   "outputs": [],
   "source": [
    "def segregate_columns(df=loans):\n",
    "    segregation = [{ \n",
    "                    \"col\":c,\n",
    "                    \"c_type\": 'continuous' if df[c].nunique()>15 else 'categorical',\n",
    "                    \"unique_count\":df[c].nunique()\n",
    "                   } for c in df.columns ]\n",
    "    \n",
    "    return pd.DataFrame.from_records(segregation)"
   ]
  },
  {
   "cell_type": "markdown",
   "metadata": {},
   "source": [
    "### We will now segregate all the variables as **continuous** or **categorical**"
   ]
  },
  {
   "cell_type": "code",
   "execution_count": 1233,
   "metadata": {},
   "outputs": [
    {
     "data": {
      "text/html": [
       "<div>\n",
       "<style scoped>\n",
       "    .dataframe tbody tr th:only-of-type {\n",
       "        vertical-align: middle;\n",
       "    }\n",
       "\n",
       "    .dataframe tbody tr th {\n",
       "        vertical-align: top;\n",
       "    }\n",
       "\n",
       "    .dataframe thead th {\n",
       "        text-align: right;\n",
       "    }\n",
       "</style>\n",
       "<table border=\"1\" class=\"dataframe\">\n",
       "  <thead>\n",
       "    <tr style=\"text-align: right;\">\n",
       "      <th></th>\n",
       "      <th>col</th>\n",
       "      <th>c_type</th>\n",
       "      <th>unique_count</th>\n",
       "    </tr>\n",
       "  </thead>\n",
       "  <tbody>\n",
       "    <tr>\n",
       "      <td>0</td>\n",
       "      <td>loan_amnt</td>\n",
       "      <td>continuous</td>\n",
       "      <td>855</td>\n",
       "    </tr>\n",
       "    <tr>\n",
       "      <td>1</td>\n",
       "      <td>funded_amnt</td>\n",
       "      <td>continuous</td>\n",
       "      <td>1009</td>\n",
       "    </tr>\n",
       "    <tr>\n",
       "      <td>2</td>\n",
       "      <td>funded_amnt_inv</td>\n",
       "      <td>continuous</td>\n",
       "      <td>7594</td>\n",
       "    </tr>\n",
       "    <tr>\n",
       "      <td>3</td>\n",
       "      <td>term</td>\n",
       "      <td>categorical</td>\n",
       "      <td>2</td>\n",
       "    </tr>\n",
       "    <tr>\n",
       "      <td>4</td>\n",
       "      <td>int_rate</td>\n",
       "      <td>continuous</td>\n",
       "      <td>335</td>\n",
       "    </tr>\n",
       "    <tr>\n",
       "      <td>5</td>\n",
       "      <td>installment</td>\n",
       "      <td>continuous</td>\n",
       "      <td>14367</td>\n",
       "    </tr>\n",
       "    <tr>\n",
       "      <td>6</td>\n",
       "      <td>grade</td>\n",
       "      <td>categorical</td>\n",
       "      <td>7</td>\n",
       "    </tr>\n",
       "    <tr>\n",
       "      <td>7</td>\n",
       "      <td>sub_grade</td>\n",
       "      <td>continuous</td>\n",
       "      <td>35</td>\n",
       "    </tr>\n",
       "    <tr>\n",
       "      <td>8</td>\n",
       "      <td>emp_length</td>\n",
       "      <td>categorical</td>\n",
       "      <td>11</td>\n",
       "    </tr>\n",
       "    <tr>\n",
       "      <td>9</td>\n",
       "      <td>home_ownership</td>\n",
       "      <td>categorical</td>\n",
       "      <td>4</td>\n",
       "    </tr>\n",
       "    <tr>\n",
       "      <td>10</td>\n",
       "      <td>annual_inc</td>\n",
       "      <td>continuous</td>\n",
       "      <td>4932</td>\n",
       "    </tr>\n",
       "    <tr>\n",
       "      <td>11</td>\n",
       "      <td>verification_status</td>\n",
       "      <td>categorical</td>\n",
       "      <td>3</td>\n",
       "    </tr>\n",
       "    <tr>\n",
       "      <td>12</td>\n",
       "      <td>issue_d</td>\n",
       "      <td>continuous</td>\n",
       "      <td>51</td>\n",
       "    </tr>\n",
       "    <tr>\n",
       "      <td>13</td>\n",
       "      <td>loan_status</td>\n",
       "      <td>categorical</td>\n",
       "      <td>2</td>\n",
       "    </tr>\n",
       "    <tr>\n",
       "      <td>14</td>\n",
       "      <td>purpose</td>\n",
       "      <td>categorical</td>\n",
       "      <td>14</td>\n",
       "    </tr>\n",
       "    <tr>\n",
       "      <td>15</td>\n",
       "      <td>addr_state</td>\n",
       "      <td>continuous</td>\n",
       "      <td>48</td>\n",
       "    </tr>\n",
       "    <tr>\n",
       "      <td>16</td>\n",
       "      <td>dti</td>\n",
       "      <td>continuous</td>\n",
       "      <td>2848</td>\n",
       "    </tr>\n",
       "    <tr>\n",
       "      <td>17</td>\n",
       "      <td>delinq_2yrs</td>\n",
       "      <td>categorical</td>\n",
       "      <td>11</td>\n",
       "    </tr>\n",
       "    <tr>\n",
       "      <td>18</td>\n",
       "      <td>earliest_cr_line</td>\n",
       "      <td>continuous</td>\n",
       "      <td>513</td>\n",
       "    </tr>\n",
       "    <tr>\n",
       "      <td>19</td>\n",
       "      <td>inq_last_6mths</td>\n",
       "      <td>categorical</td>\n",
       "      <td>9</td>\n",
       "    </tr>\n",
       "    <tr>\n",
       "      <td>20</td>\n",
       "      <td>open_acc</td>\n",
       "      <td>continuous</td>\n",
       "      <td>38</td>\n",
       "    </tr>\n",
       "    <tr>\n",
       "      <td>21</td>\n",
       "      <td>revol_bal</td>\n",
       "      <td>continuous</td>\n",
       "      <td>20762</td>\n",
       "    </tr>\n",
       "    <tr>\n",
       "      <td>22</td>\n",
       "      <td>revol_util</td>\n",
       "      <td>continuous</td>\n",
       "      <td>1086</td>\n",
       "    </tr>\n",
       "    <tr>\n",
       "      <td>23</td>\n",
       "      <td>total_acc</td>\n",
       "      <td>continuous</td>\n",
       "      <td>81</td>\n",
       "    </tr>\n",
       "    <tr>\n",
       "      <td>24</td>\n",
       "      <td>total_pymnt</td>\n",
       "      <td>continuous</td>\n",
       "      <td>35011</td>\n",
       "    </tr>\n",
       "    <tr>\n",
       "      <td>25</td>\n",
       "      <td>total_pymnt_inv</td>\n",
       "      <td>continuous</td>\n",
       "      <td>34708</td>\n",
       "    </tr>\n",
       "    <tr>\n",
       "      <td>26</td>\n",
       "      <td>total_rec_prncp</td>\n",
       "      <td>continuous</td>\n",
       "      <td>6469</td>\n",
       "    </tr>\n",
       "    <tr>\n",
       "      <td>27</td>\n",
       "      <td>total_rec_int</td>\n",
       "      <td>continuous</td>\n",
       "      <td>32578</td>\n",
       "    </tr>\n",
       "    <tr>\n",
       "      <td>28</td>\n",
       "      <td>total_rec_late_fee</td>\n",
       "      <td>continuous</td>\n",
       "      <td>1241</td>\n",
       "    </tr>\n",
       "    <tr>\n",
       "      <td>29</td>\n",
       "      <td>recoveries</td>\n",
       "      <td>continuous</td>\n",
       "      <td>3779</td>\n",
       "    </tr>\n",
       "    <tr>\n",
       "      <td>30</td>\n",
       "      <td>collection_recovery_fee</td>\n",
       "      <td>continuous</td>\n",
       "      <td>2488</td>\n",
       "    </tr>\n",
       "    <tr>\n",
       "      <td>31</td>\n",
       "      <td>pub_rec_bankruptcies</td>\n",
       "      <td>categorical</td>\n",
       "      <td>3</td>\n",
       "    </tr>\n",
       "    <tr>\n",
       "      <td>32</td>\n",
       "      <td>loan_defaulted</td>\n",
       "      <td>categorical</td>\n",
       "      <td>2</td>\n",
       "    </tr>\n",
       "    <tr>\n",
       "      <td>33</td>\n",
       "      <td>loan_amnt_type</td>\n",
       "      <td>categorical</td>\n",
       "      <td>3</td>\n",
       "    </tr>\n",
       "    <tr>\n",
       "      <td>34</td>\n",
       "      <td>is_short_term</td>\n",
       "      <td>categorical</td>\n",
       "      <td>1</td>\n",
       "    </tr>\n",
       "    <tr>\n",
       "      <td>35</td>\n",
       "      <td>int_rate_slab</td>\n",
       "      <td>categorical</td>\n",
       "      <td>3</td>\n",
       "    </tr>\n",
       "  </tbody>\n",
       "</table>\n",
       "</div>"
      ],
      "text/plain": [
       "                        col       c_type  unique_count\n",
       "0                 loan_amnt   continuous           855\n",
       "1               funded_amnt   continuous          1009\n",
       "2           funded_amnt_inv   continuous          7594\n",
       "3                      term  categorical             2\n",
       "4                  int_rate   continuous           335\n",
       "5               installment   continuous         14367\n",
       "6                     grade  categorical             7\n",
       "7                 sub_grade   continuous            35\n",
       "8                emp_length  categorical            11\n",
       "9            home_ownership  categorical             4\n",
       "10               annual_inc   continuous          4932\n",
       "11      verification_status  categorical             3\n",
       "12                  issue_d   continuous            51\n",
       "13              loan_status  categorical             2\n",
       "14                  purpose  categorical            14\n",
       "15               addr_state   continuous            48\n",
       "16                      dti   continuous          2848\n",
       "17              delinq_2yrs  categorical            11\n",
       "18         earliest_cr_line   continuous           513\n",
       "19           inq_last_6mths  categorical             9\n",
       "20                 open_acc   continuous            38\n",
       "21                revol_bal   continuous         20762\n",
       "22               revol_util   continuous          1086\n",
       "23                total_acc   continuous            81\n",
       "24              total_pymnt   continuous         35011\n",
       "25          total_pymnt_inv   continuous         34708\n",
       "26          total_rec_prncp   continuous          6469\n",
       "27            total_rec_int   continuous         32578\n",
       "28       total_rec_late_fee   continuous          1241\n",
       "29               recoveries   continuous          3779\n",
       "30  collection_recovery_fee   continuous          2488\n",
       "31     pub_rec_bankruptcies  categorical             3\n",
       "32           loan_defaulted  categorical             2\n",
       "33           loan_amnt_type  categorical             3\n",
       "34            is_short_term  categorical             1\n",
       "35            int_rate_slab  categorical             3"
      ]
     },
     "execution_count": 1233,
     "metadata": {},
     "output_type": "execute_result"
    }
   ],
   "source": [
    "loans_columns = segregate_columns()\n",
    "loans_columns"
   ]
  },
  {
   "cell_type": "markdown",
   "metadata": {},
   "source": [
    "### We have treated any variable having more than 15 unique values as continuous. However, after the analyzing the data and applying domain/business knowledge we will treat `sub_grade` and `addr_state` as `categorical`"
   ]
  },
  {
   "cell_type": "code",
   "execution_count": 1234,
   "metadata": {},
   "outputs": [
    {
     "data": {
      "text/html": [
       "<div>\n",
       "<style scoped>\n",
       "    .dataframe tbody tr th:only-of-type {\n",
       "        vertical-align: middle;\n",
       "    }\n",
       "\n",
       "    .dataframe tbody tr th {\n",
       "        vertical-align: top;\n",
       "    }\n",
       "\n",
       "    .dataframe thead th {\n",
       "        text-align: right;\n",
       "    }\n",
       "</style>\n",
       "<table border=\"1\" class=\"dataframe\">\n",
       "  <thead>\n",
       "    <tr style=\"text-align: right;\">\n",
       "      <th></th>\n",
       "      <th>col</th>\n",
       "      <th>c_type</th>\n",
       "      <th>unique_count</th>\n",
       "    </tr>\n",
       "  </thead>\n",
       "  <tbody>\n",
       "    <tr>\n",
       "      <td>0</td>\n",
       "      <td>loan_amnt</td>\n",
       "      <td>continuous</td>\n",
       "      <td>855</td>\n",
       "    </tr>\n",
       "    <tr>\n",
       "      <td>1</td>\n",
       "      <td>funded_amnt</td>\n",
       "      <td>continuous</td>\n",
       "      <td>1009</td>\n",
       "    </tr>\n",
       "    <tr>\n",
       "      <td>2</td>\n",
       "      <td>funded_amnt_inv</td>\n",
       "      <td>continuous</td>\n",
       "      <td>7594</td>\n",
       "    </tr>\n",
       "    <tr>\n",
       "      <td>3</td>\n",
       "      <td>term</td>\n",
       "      <td>categorical</td>\n",
       "      <td>2</td>\n",
       "    </tr>\n",
       "    <tr>\n",
       "      <td>4</td>\n",
       "      <td>int_rate</td>\n",
       "      <td>continuous</td>\n",
       "      <td>335</td>\n",
       "    </tr>\n",
       "    <tr>\n",
       "      <td>5</td>\n",
       "      <td>installment</td>\n",
       "      <td>continuous</td>\n",
       "      <td>14367</td>\n",
       "    </tr>\n",
       "    <tr>\n",
       "      <td>6</td>\n",
       "      <td>grade</td>\n",
       "      <td>categorical</td>\n",
       "      <td>7</td>\n",
       "    </tr>\n",
       "    <tr>\n",
       "      <td>7</td>\n",
       "      <td>sub_grade</td>\n",
       "      <td>categorical</td>\n",
       "      <td>35</td>\n",
       "    </tr>\n",
       "    <tr>\n",
       "      <td>8</td>\n",
       "      <td>emp_length</td>\n",
       "      <td>categorical</td>\n",
       "      <td>11</td>\n",
       "    </tr>\n",
       "    <tr>\n",
       "      <td>9</td>\n",
       "      <td>home_ownership</td>\n",
       "      <td>categorical</td>\n",
       "      <td>4</td>\n",
       "    </tr>\n",
       "    <tr>\n",
       "      <td>10</td>\n",
       "      <td>annual_inc</td>\n",
       "      <td>continuous</td>\n",
       "      <td>4932</td>\n",
       "    </tr>\n",
       "    <tr>\n",
       "      <td>11</td>\n",
       "      <td>verification_status</td>\n",
       "      <td>categorical</td>\n",
       "      <td>3</td>\n",
       "    </tr>\n",
       "    <tr>\n",
       "      <td>12</td>\n",
       "      <td>issue_d</td>\n",
       "      <td>continuous</td>\n",
       "      <td>51</td>\n",
       "    </tr>\n",
       "    <tr>\n",
       "      <td>13</td>\n",
       "      <td>loan_status</td>\n",
       "      <td>categorical</td>\n",
       "      <td>2</td>\n",
       "    </tr>\n",
       "    <tr>\n",
       "      <td>14</td>\n",
       "      <td>purpose</td>\n",
       "      <td>categorical</td>\n",
       "      <td>14</td>\n",
       "    </tr>\n",
       "    <tr>\n",
       "      <td>15</td>\n",
       "      <td>addr_state</td>\n",
       "      <td>categorical</td>\n",
       "      <td>48</td>\n",
       "    </tr>\n",
       "    <tr>\n",
       "      <td>16</td>\n",
       "      <td>dti</td>\n",
       "      <td>continuous</td>\n",
       "      <td>2848</td>\n",
       "    </tr>\n",
       "    <tr>\n",
       "      <td>17</td>\n",
       "      <td>delinq_2yrs</td>\n",
       "      <td>categorical</td>\n",
       "      <td>11</td>\n",
       "    </tr>\n",
       "    <tr>\n",
       "      <td>18</td>\n",
       "      <td>earliest_cr_line</td>\n",
       "      <td>continuous</td>\n",
       "      <td>513</td>\n",
       "    </tr>\n",
       "    <tr>\n",
       "      <td>19</td>\n",
       "      <td>inq_last_6mths</td>\n",
       "      <td>categorical</td>\n",
       "      <td>9</td>\n",
       "    </tr>\n",
       "    <tr>\n",
       "      <td>20</td>\n",
       "      <td>open_acc</td>\n",
       "      <td>continuous</td>\n",
       "      <td>38</td>\n",
       "    </tr>\n",
       "    <tr>\n",
       "      <td>21</td>\n",
       "      <td>revol_bal</td>\n",
       "      <td>continuous</td>\n",
       "      <td>20762</td>\n",
       "    </tr>\n",
       "    <tr>\n",
       "      <td>22</td>\n",
       "      <td>revol_util</td>\n",
       "      <td>continuous</td>\n",
       "      <td>1086</td>\n",
       "    </tr>\n",
       "    <tr>\n",
       "      <td>23</td>\n",
       "      <td>total_acc</td>\n",
       "      <td>continuous</td>\n",
       "      <td>81</td>\n",
       "    </tr>\n",
       "    <tr>\n",
       "      <td>24</td>\n",
       "      <td>total_pymnt</td>\n",
       "      <td>continuous</td>\n",
       "      <td>35011</td>\n",
       "    </tr>\n",
       "    <tr>\n",
       "      <td>25</td>\n",
       "      <td>total_pymnt_inv</td>\n",
       "      <td>continuous</td>\n",
       "      <td>34708</td>\n",
       "    </tr>\n",
       "    <tr>\n",
       "      <td>26</td>\n",
       "      <td>total_rec_prncp</td>\n",
       "      <td>continuous</td>\n",
       "      <td>6469</td>\n",
       "    </tr>\n",
       "    <tr>\n",
       "      <td>27</td>\n",
       "      <td>total_rec_int</td>\n",
       "      <td>continuous</td>\n",
       "      <td>32578</td>\n",
       "    </tr>\n",
       "    <tr>\n",
       "      <td>28</td>\n",
       "      <td>total_rec_late_fee</td>\n",
       "      <td>continuous</td>\n",
       "      <td>1241</td>\n",
       "    </tr>\n",
       "    <tr>\n",
       "      <td>29</td>\n",
       "      <td>recoveries</td>\n",
       "      <td>continuous</td>\n",
       "      <td>3779</td>\n",
       "    </tr>\n",
       "    <tr>\n",
       "      <td>30</td>\n",
       "      <td>collection_recovery_fee</td>\n",
       "      <td>continuous</td>\n",
       "      <td>2488</td>\n",
       "    </tr>\n",
       "    <tr>\n",
       "      <td>31</td>\n",
       "      <td>pub_rec_bankruptcies</td>\n",
       "      <td>categorical</td>\n",
       "      <td>3</td>\n",
       "    </tr>\n",
       "    <tr>\n",
       "      <td>32</td>\n",
       "      <td>loan_defaulted</td>\n",
       "      <td>categorical</td>\n",
       "      <td>2</td>\n",
       "    </tr>\n",
       "    <tr>\n",
       "      <td>33</td>\n",
       "      <td>loan_amnt_type</td>\n",
       "      <td>categorical</td>\n",
       "      <td>3</td>\n",
       "    </tr>\n",
       "    <tr>\n",
       "      <td>34</td>\n",
       "      <td>is_short_term</td>\n",
       "      <td>categorical</td>\n",
       "      <td>1</td>\n",
       "    </tr>\n",
       "    <tr>\n",
       "      <td>35</td>\n",
       "      <td>int_rate_slab</td>\n",
       "      <td>categorical</td>\n",
       "      <td>3</td>\n",
       "    </tr>\n",
       "  </tbody>\n",
       "</table>\n",
       "</div>"
      ],
      "text/plain": [
       "                        col       c_type  unique_count\n",
       "0                 loan_amnt   continuous           855\n",
       "1               funded_amnt   continuous          1009\n",
       "2           funded_amnt_inv   continuous          7594\n",
       "3                      term  categorical             2\n",
       "4                  int_rate   continuous           335\n",
       "5               installment   continuous         14367\n",
       "6                     grade  categorical             7\n",
       "7                 sub_grade  categorical            35\n",
       "8                emp_length  categorical            11\n",
       "9            home_ownership  categorical             4\n",
       "10               annual_inc   continuous          4932\n",
       "11      verification_status  categorical             3\n",
       "12                  issue_d   continuous            51\n",
       "13              loan_status  categorical             2\n",
       "14                  purpose  categorical            14\n",
       "15               addr_state  categorical            48\n",
       "16                      dti   continuous          2848\n",
       "17              delinq_2yrs  categorical            11\n",
       "18         earliest_cr_line   continuous           513\n",
       "19           inq_last_6mths  categorical             9\n",
       "20                 open_acc   continuous            38\n",
       "21                revol_bal   continuous         20762\n",
       "22               revol_util   continuous          1086\n",
       "23                total_acc   continuous            81\n",
       "24              total_pymnt   continuous         35011\n",
       "25          total_pymnt_inv   continuous         34708\n",
       "26          total_rec_prncp   continuous          6469\n",
       "27            total_rec_int   continuous         32578\n",
       "28       total_rec_late_fee   continuous          1241\n",
       "29               recoveries   continuous          3779\n",
       "30  collection_recovery_fee   continuous          2488\n",
       "31     pub_rec_bankruptcies  categorical             3\n",
       "32           loan_defaulted  categorical             2\n",
       "33           loan_amnt_type  categorical             3\n",
       "34            is_short_term  categorical             1\n",
       "35            int_rate_slab  categorical             3"
      ]
     },
     "execution_count": 1234,
     "metadata": {},
     "output_type": "execute_result"
    }
   ],
   "source": [
    "loans_columns.loc[loans_columns['col'] == 'addr_state', 'c_type'] = 'categorical'\n",
    "loans_columns.loc[loans_columns['col'] == 'sub_grade', 'c_type'] = 'categorical'\n",
    "loans_columns"
   ]
  },
  {
   "cell_type": "markdown",
   "metadata": {},
   "source": [
    "# TODO\n",
    "#### Describe the type of each variable\n",
    "Continuous Variable: loan_amnt, funded_amnt, funded_amnt_inv\n"
   ]
  },
  {
   "cell_type": "markdown",
   "metadata": {},
   "source": [
    "# Univariate Analysis"
   ]
  },
  {
   "cell_type": "markdown",
   "metadata": {},
   "source": [
    "Reference for the following methods: https://towardsdatascience.com/a-starter-pack-to-exploratory-data-analysis-with-python-pandas-seaborn-and-scikit-learn-a77889485baf#89dd"
   ]
  },
  {
   "cell_type": "code",
   "execution_count": 1173,
   "metadata": {},
   "outputs": [],
   "source": [
    "default_figsize = (12, 5)"
   ]
  },
  {
   "cell_type": "code",
   "execution_count": 1174,
   "metadata": {},
   "outputs": [],
   "source": [
    "def categorical_summarized(dataframe,\n",
    "                           x=None,\n",
    "                           y=None,\n",
    "                           hue=None,\n",
    "                           palette='Set1',\n",
    "                           verbose=True,\n",
    "                           figsize=default_figsize):\n",
    "    '''\n",
    "    Helper function that gives a quick summary of a given column of categorical data\n",
    "    Arguments\n",
    "    =========\n",
    "    dataframe: pandas dataframe\n",
    "    x: str. horizontal axis to plot the labels of categorical data, y would be the count\n",
    "    y: str. vertical axis to plot the labels of categorical data, x would be the count\n",
    "    hue: str. if you want to compare it another variable (usually the target variable)\n",
    "    palette: array-like. Colour of the plot\n",
    "    Returns\n",
    "    =======\n",
    "    Quick Stats of the data and also the count plot\n",
    "    '''\n",
    "    if x == None:\n",
    "        column_interested = y\n",
    "    else:\n",
    "        column_interested = x\n",
    "    series = dataframe[column_interested]\n",
    "    print(series.describe())\n",
    "    print('mode: ', series.mode())\n",
    "    if verbose:\n",
    "        print('=' * 80)\n",
    "        print(series.value_counts())\n",
    "\n",
    "    sns.set(rc={'figure.figsize': figsize})\n",
    "    sns.countplot(x=x, y=y, hue=hue, data=dataframe)\n",
    "    plt.tight_layout()\n",
    "    plt.show()"
   ]
  },
  {
   "cell_type": "code",
   "execution_count": 1175,
   "metadata": {},
   "outputs": [],
   "source": [
    "def quantitative_summarized(dataframe,\n",
    "                            x=None,\n",
    "                            y=None,\n",
    "                            hue=None,\n",
    "                            palette='Set1',\n",
    "                            ax=None,\n",
    "                            verbose=True,\n",
    "                            swarm=False,\n",
    "                            figsize=default_figsize):\n",
    "    '''\n",
    "    Helper function that gives a quick summary of quantattive data\n",
    "    Arguments\n",
    "    =========\n",
    "    dataframe: pandas dataframe\n",
    "    x: str. horizontal axis to plot the labels of categorical data (usually the target variable)\n",
    "    y: str. vertical axis to plot the quantitative data\n",
    "    hue: str. if you want to compare it another categorical variable (usually the target variable if x is another variable)\n",
    "    palette: array-like. Colour of the plot\n",
    "    swarm: if swarm is set to True, a swarm plot would be overlayed\n",
    "    Returns\n",
    "    =======\n",
    "    Quick Stats of the data and also the box plot of the distribution\n",
    "    '''\n",
    "    series = dataframe[y]\n",
    "    print(series.describe())\n",
    "    print('mode: ', series.mode())\n",
    "    if verbose:\n",
    "        print('=' * 80)\n",
    "        print(series.value_counts())\n",
    "    sns.set(rc={'figure.figsize': figsize})\n",
    "\n",
    "    sns.boxplot(x=x, y=y, hue=hue, data=dataframe, palette=palette, ax=ax)\n",
    "\n",
    "    if swarm:\n",
    "        sns.swarmplot(x=x,\n",
    "                      y=y,\n",
    "                      hue=hue,\n",
    "                      data=dataframe,\n",
    "                      palette=palette,\n",
    "                      ax=ax)\n",
    "    plt.tight_layout()\n",
    "    plt.show()"
   ]
  },
  {
   "cell_type": "code",
   "execution_count": 1176,
   "metadata": {},
   "outputs": [],
   "source": [
    "def plot_column(df,\n",
    "                col,\n",
    "                chart_type='Hist',\n",
    "                dtype=int,\n",
    "                bins=25,\n",
    "                figsize=default_figsize):\n",
    "    temp_df = df[col]\n",
    "    sns.set(rc={'figure.figsize': figsize})\n",
    "    if chart_type == 'Hist':\n",
    "        ax = sns.countplot(temp_df)\n",
    "    elif chart_type == 'Dens':\n",
    "        ax = sns.distplot(temp_df)\n",
    "    xmin, xmax = ax.get_xlim()\n",
    "    ax.set_xticks(np.round(np.linspace(xmin, xmax, bins), 2))\n",
    "    plt.tight_layout()\n",
    "    plt.locator_params(axis='y', nbins=6)\n",
    "    plt.show()"
   ]
  },
  {
   "cell_type": "code",
   "execution_count": 1177,
   "metadata": {},
   "outputs": [],
   "source": [
    "def univariate_analysis(col, chart_type='Dens', df=loans, is_categorical=True):\n",
    "    if is_categorical:\n",
    "        quantitative_summarized(df, y=col)\n",
    "        plot_column(df, col, chart_type=chart_type)\n",
    "    else:\n",
    "        categorical_summarized(df, x=col)"
   ]
  },
  {
   "cell_type": "code",
   "execution_count": 1178,
   "metadata": {},
   "outputs": [
    {
     "name": "stdout",
     "output_type": "stream",
     "text": [
      "count   36735.0000\n",
      "mean    11153.4531\n",
      "std      7368.3826\n",
      "min       500.0000\n",
      "25%      5500.0000\n",
      "50%     10000.0000\n",
      "75%     15000.0000\n",
      "max     35000.0000\n",
      "Name: loan_amnt, dtype: float64\n",
      "mode:  0    10000\n",
      "dtype: int64\n",
      "================================================================================\n",
      "10000    2666\n",
      "12000    2177\n",
      "5000     1906\n",
      "6000     1804\n",
      "15000    1767\n",
      "         ... \n",
      "21825       1\n",
      "18275       1\n",
      "20450       1\n",
      "14475       1\n",
      "28750       1\n",
      "Name: loan_amnt, Length: 855, dtype: int64\n"
     ]
    },
    {
     "data": {
      "image/png": "[encoded data removed]",
      "text/plain": [
       "<Figure size 864x360 with 1 Axes>"
      ]
     },
     "metadata": {},
     "output_type": "display_data"
    },
    {
     "data": {
      "image/png": "[encoded data removed]",
      "text/plain": [
       "<Figure size 864x360 with 1 Axes>"
      ]
     },
     "metadata": {},
     "output_type": "display_data"
    }
   ],
   "source": [
    "univariate_analysis('loan_amnt')"
   ]
  },
  {
   "cell_type": "markdown",
   "metadata": {},
   "source": [
    "As we can see there are some outliers in the `loan_amnt`. However, we can't remove these as they may be the defaulted one. We can create a new categorical column `loan_amnt_type` which categorizes the loans as **low, medium and high**"
   ]
  },
  {
   "cell_type": "code",
   "execution_count": 1179,
   "metadata": {},
   "outputs": [],
   "source": [
    "def add_categorical_column(df,\n",
    "                           bins,\n",
    "                           column,\n",
    "                           new_column,\n",
    "                           interval,\n",
    "                           verbose=True):\n",
    "    interval.append(df[column].max() + 1)\n",
    "    df[new_column] = pd.cut(df[column], interval, right=False, labels=bins)\n",
    "    if verbose:\n",
    "        print(df[[column, new_column]].head())"
   ]
  },
  {
   "cell_type": "code",
   "execution_count": 1180,
   "metadata": {},
   "outputs": [
    {
     "name": "stdout",
     "output_type": "stream",
     "text": [
      "   loan_amnt loan_amnt_type\n",
      "0       5000         medium\n",
      "1       2500            low\n",
      "2       2400            low\n",
      "3      10000         medium\n",
      "5       5000         medium\n"
     ]
    }
   ],
   "source": [
    "add_categorical_column(loans, ['low', 'medium', 'high'], 'loan_amnt',\n",
    "                       'loan_amnt_type', [0, 5000, 15000])"
   ]
  },
  {
   "cell_type": "code",
   "execution_count": 1181,
   "metadata": {},
   "outputs": [
    {
     "name": "stdout",
     "output_type": "stream",
     "text": [
      "count      36735\n",
      "unique         3\n",
      "top       medium\n",
      "freq       19741\n",
      "Name: loan_amnt_type, dtype: object\n",
      "mode:  0    medium\n",
      "Name: loan_amnt_type, dtype: category\n",
      "Categories (3, object): [low < medium < high]\n",
      "================================================================================\n",
      "medium    19741\n",
      "high      10108\n",
      "low        6886\n",
      "Name: loan_amnt_type, dtype: int64\n"
     ]
    },
    {
     "data": {
      "image/png": "[encoded data removed]",
      "text/plain": [
       "<Figure size 864x360 with 1 Axes>"
      ]
     },
     "metadata": {},
     "output_type": "display_data"
    }
   ],
   "source": [
    "univariate_analysis('loan_amnt_type', is_categorical=False)"
   ]
  },
  {
   "cell_type": "markdown",
   "metadata": {},
   "source": [
    "From this, we can infer that `medium` type loans are the most given loans by Lending club"
   ]
  },
  {
   "cell_type": "code",
   "execution_count": 1182,
   "metadata": {},
   "outputs": [
    {
     "data": {
      "text/html": [
       "<div>\n",
       "<style scoped>\n",
       "    .dataframe tbody tr th:only-of-type {\n",
       "        vertical-align: middle;\n",
       "    }\n",
       "\n",
       "    .dataframe tbody tr th {\n",
       "        vertical-align: top;\n",
       "    }\n",
       "\n",
       "    .dataframe thead th {\n",
       "        text-align: right;\n",
       "    }\n",
       "</style>\n",
       "<table border=\"1\" class=\"dataframe\">\n",
       "  <thead>\n",
       "    <tr style=\"text-align: right;\">\n",
       "      <th></th>\n",
       "      <th>loan_amnt</th>\n",
       "      <th>funded_amnt</th>\n",
       "      <th>funded_amnt_inv</th>\n",
       "      <th>installment</th>\n",
       "      <th>annual_inc</th>\n",
       "      <th>dti</th>\n",
       "      <th>delinq_2yrs</th>\n",
       "      <th>inq_last_6mths</th>\n",
       "      <th>open_acc</th>\n",
       "      <th>revol_bal</th>\n",
       "      <th>total_acc</th>\n",
       "      <th>total_pymnt</th>\n",
       "      <th>total_pymnt_inv</th>\n",
       "      <th>total_rec_prncp</th>\n",
       "      <th>total_rec_int</th>\n",
       "      <th>total_rec_late_fee</th>\n",
       "      <th>recoveries</th>\n",
       "      <th>collection_recovery_fee</th>\n",
       "      <th>pub_rec_bankruptcies</th>\n",
       "      <th>loan_defaulted</th>\n",
       "    </tr>\n",
       "  </thead>\n",
       "  <tbody>\n",
       "    <tr>\n",
       "      <td>count</td>\n",
       "      <td>36735.0000</td>\n",
       "      <td>36735.0000</td>\n",
       "      <td>36735.0000</td>\n",
       "      <td>36735.0000</td>\n",
       "      <td>36735.0000</td>\n",
       "      <td>36735.0000</td>\n",
       "      <td>36735.0000</td>\n",
       "      <td>36735.0000</td>\n",
       "      <td>36735.0000</td>\n",
       "      <td>36735.0000</td>\n",
       "      <td>36735.0000</td>\n",
       "      <td>36735.0000</td>\n",
       "      <td>36735.0000</td>\n",
       "      <td>36735.0000</td>\n",
       "      <td>36735.0000</td>\n",
       "      <td>36735.0000</td>\n",
       "      <td>36735.0000</td>\n",
       "      <td>36735.0000</td>\n",
       "      <td>36735.0000</td>\n",
       "      <td>36735.0000</td>\n",
       "    </tr>\n",
       "    <tr>\n",
       "      <td>mean</td>\n",
       "      <td>11153.4531</td>\n",
       "      <td>10884.2317</td>\n",
       "      <td>10444.7007</td>\n",
       "      <td>324.9947</td>\n",
       "      <td>69468.9407</td>\n",
       "      <td>13.3371</td>\n",
       "      <td>0.1460</td>\n",
       "      <td>0.8689</td>\n",
       "      <td>9.3058</td>\n",
       "      <td>13384.8863</td>\n",
       "      <td>22.1627</td>\n",
       "      <td>12020.2755</td>\n",
       "      <td>11544.8782</td>\n",
       "      <td>9766.7111</td>\n",
       "      <td>2154.8479</td>\n",
       "      <td>1.3409</td>\n",
       "      <td>97.3757</td>\n",
       "      <td>12.4964</td>\n",
       "      <td>0.0417</td>\n",
       "      <td>0.1416</td>\n",
       "    </tr>\n",
       "    <tr>\n",
       "      <td>std</td>\n",
       "      <td>7368.3826</td>\n",
       "      <td>7107.2998</td>\n",
       "      <td>7008.0288</td>\n",
       "      <td>208.8390</td>\n",
       "      <td>64063.8854</td>\n",
       "      <td>6.6496</td>\n",
       "      <td>0.4914</td>\n",
       "      <td>1.0675</td>\n",
       "      <td>4.3760</td>\n",
       "      <td>15856.3133</td>\n",
       "      <td>11.4068</td>\n",
       "      <td>8849.6020</td>\n",
       "      <td>8705.6407</td>\n",
       "      <td>7034.1563</td>\n",
       "      <td>2412.1385</td>\n",
       "      <td>7.2043</td>\n",
       "      <td>700.4411</td>\n",
       "      <td>150.2953</td>\n",
       "      <td>0.2005</td>\n",
       "      <td>0.3487</td>\n",
       "    </tr>\n",
       "    <tr>\n",
       "      <td>min</td>\n",
       "      <td>500.0000</td>\n",
       "      <td>500.0000</td>\n",
       "      <td>0.0000</td>\n",
       "      <td>16.0800</td>\n",
       "      <td>4000.0000</td>\n",
       "      <td>0.0000</td>\n",
       "      <td>0.0000</td>\n",
       "      <td>0.0000</td>\n",
       "      <td>2.0000</td>\n",
       "      <td>0.0000</td>\n",
       "      <td>2.0000</td>\n",
       "      <td>33.7300</td>\n",
       "      <td>0.0000</td>\n",
       "      <td>0.0000</td>\n",
       "      <td>6.2200</td>\n",
       "      <td>0.0000</td>\n",
       "      <td>0.0000</td>\n",
       "      <td>0.0000</td>\n",
       "      <td>0.0000</td>\n",
       "      <td>0.0000</td>\n",
       "    </tr>\n",
       "    <tr>\n",
       "      <td>25%</td>\n",
       "      <td>5500.0000</td>\n",
       "      <td>5425.0000</td>\n",
       "      <td>5000.0000</td>\n",
       "      <td>167.7300</td>\n",
       "      <td>41200.0000</td>\n",
       "      <td>8.2200</td>\n",
       "      <td>0.0000</td>\n",
       "      <td>0.0000</td>\n",
       "      <td>6.0000</td>\n",
       "      <td>3734.5000</td>\n",
       "      <td>14.0000</td>\n",
       "      <td>5590.5861</td>\n",
       "      <td>5292.7300</td>\n",
       "      <td>4641.2650</td>\n",
       "      <td>660.7750</td>\n",
       "      <td>0.0000</td>\n",
       "      <td>0.0000</td>\n",
       "      <td>0.0000</td>\n",
       "      <td>0.0000</td>\n",
       "      <td>0.0000</td>\n",
       "    </tr>\n",
       "    <tr>\n",
       "      <td>50%</td>\n",
       "      <td>10000.0000</td>\n",
       "      <td>9600.0000</td>\n",
       "      <td>9000.0000</td>\n",
       "      <td>280.2800</td>\n",
       "      <td>60000.0000</td>\n",
       "      <td>13.4300</td>\n",
       "      <td>0.0000</td>\n",
       "      <td>1.0000</td>\n",
       "      <td>9.0000</td>\n",
       "      <td>8880.0000</td>\n",
       "      <td>20.0000</td>\n",
       "      <td>9832.2917</td>\n",
       "      <td>9375.5800</td>\n",
       "      <td>8000.0000</td>\n",
       "      <td>1328.6800</td>\n",
       "      <td>0.0000</td>\n",
       "      <td>0.0000</td>\n",
       "      <td>0.0000</td>\n",
       "      <td>0.0000</td>\n",
       "      <td>0.0000</td>\n",
       "    </tr>\n",
       "    <tr>\n",
       "      <td>75%</td>\n",
       "      <td>15000.0000</td>\n",
       "      <td>15000.0000</td>\n",
       "      <td>14353.3263</td>\n",
       "      <td>429.4500</td>\n",
       "      <td>83000.0000</td>\n",
       "      <td>18.5900</td>\n",
       "      <td>0.0000</td>\n",
       "      <td>1.0000</td>\n",
       "      <td>12.0000</td>\n",
       "      <td>17035.5000</td>\n",
       "      <td>29.0000</td>\n",
       "      <td>16322.6987</td>\n",
       "      <td>15637.7650</td>\n",
       "      <td>13500.0000</td>\n",
       "      <td>2720.6600</td>\n",
       "      <td>0.0000</td>\n",
       "      <td>0.0000</td>\n",
       "      <td>0.0000</td>\n",
       "      <td>0.0000</td>\n",
       "      <td>0.0000</td>\n",
       "    </tr>\n",
       "    <tr>\n",
       "      <td>max</td>\n",
       "      <td>35000.0000</td>\n",
       "      <td>35000.0000</td>\n",
       "      <td>35000.0000</td>\n",
       "      <td>1305.1900</td>\n",
       "      <td>6000000.0000</td>\n",
       "      <td>29.9900</td>\n",
       "      <td>11.0000</td>\n",
       "      <td>8.0000</td>\n",
       "      <td>44.0000</td>\n",
       "      <td>149588.0000</td>\n",
       "      <td>90.0000</td>\n",
       "      <td>58563.6799</td>\n",
       "      <td>58563.6800</td>\n",
       "      <td>35000.0200</td>\n",
       "      <td>23563.6800</td>\n",
       "      <td>180.2000</td>\n",
       "      <td>29623.3500</td>\n",
       "      <td>7002.1900</td>\n",
       "      <td>2.0000</td>\n",
       "      <td>1.0000</td>\n",
       "    </tr>\n",
       "  </tbody>\n",
       "</table>\n",
       "</div>"
      ],
      "text/plain": [
       "       loan_amnt  funded_amnt  funded_amnt_inv  installment   annual_inc  \\\n",
       "count 36735.0000   36735.0000       36735.0000   36735.0000   36735.0000   \n",
       "mean  11153.4531   10884.2317       10444.7007     324.9947   69468.9407   \n",
       "std    7368.3826    7107.2998        7008.0288     208.8390   64063.8854   \n",
       "min     500.0000     500.0000           0.0000      16.0800    4000.0000   \n",
       "25%    5500.0000    5425.0000        5000.0000     167.7300   41200.0000   \n",
       "50%   10000.0000    9600.0000        9000.0000     280.2800   60000.0000   \n",
       "75%   15000.0000   15000.0000       14353.3263     429.4500   83000.0000   \n",
       "max   35000.0000   35000.0000       35000.0000    1305.1900 6000000.0000   \n",
       "\n",
       "             dti  delinq_2yrs  inq_last_6mths   open_acc   revol_bal  \\\n",
       "count 36735.0000   36735.0000      36735.0000 36735.0000  36735.0000   \n",
       "mean     13.3371       0.1460          0.8689     9.3058  13384.8863   \n",
       "std       6.6496       0.4914          1.0675     4.3760  15856.3133   \n",
       "min       0.0000       0.0000          0.0000     2.0000      0.0000   \n",
       "25%       8.2200       0.0000          0.0000     6.0000   3734.5000   \n",
       "50%      13.4300       0.0000          1.0000     9.0000   8880.0000   \n",
       "75%      18.5900       0.0000          1.0000    12.0000  17035.5000   \n",
       "max      29.9900      11.0000          8.0000    44.0000 149588.0000   \n",
       "\n",
       "       total_acc  total_pymnt  total_pymnt_inv  total_rec_prncp  \\\n",
       "count 36735.0000   36735.0000       36735.0000       36735.0000   \n",
       "mean     22.1627   12020.2755       11544.8782        9766.7111   \n",
       "std      11.4068    8849.6020        8705.6407        7034.1563   \n",
       "min       2.0000      33.7300           0.0000           0.0000   \n",
       "25%      14.0000    5590.5861        5292.7300        4641.2650   \n",
       "50%      20.0000    9832.2917        9375.5800        8000.0000   \n",
       "75%      29.0000   16322.6987       15637.7650       13500.0000   \n",
       "max      90.0000   58563.6799       58563.6800       35000.0200   \n",
       "\n",
       "       total_rec_int  total_rec_late_fee  recoveries  collection_recovery_fee  \\\n",
       "count     36735.0000          36735.0000  36735.0000               36735.0000   \n",
       "mean       2154.8479              1.3409     97.3757                  12.4964   \n",
       "std        2412.1385              7.2043    700.4411                 150.2953   \n",
       "min           6.2200              0.0000      0.0000                   0.0000   \n",
       "25%         660.7750              0.0000      0.0000                   0.0000   \n",
       "50%        1328.6800              0.0000      0.0000                   0.0000   \n",
       "75%        2720.6600              0.0000      0.0000                   0.0000   \n",
       "max       23563.6800            180.2000  29623.3500                7002.1900   \n",
       "\n",
       "       pub_rec_bankruptcies  loan_defaulted  \n",
       "count            36735.0000      36735.0000  \n",
       "mean                 0.0417          0.1416  \n",
       "std                  0.2005          0.3487  \n",
       "min                  0.0000          0.0000  \n",
       "25%                  0.0000          0.0000  \n",
       "50%                  0.0000          0.0000  \n",
       "75%                  0.0000          0.0000  \n",
       "max                  2.0000          1.0000  "
      ]
     },
     "execution_count": 1182,
     "metadata": {},
     "output_type": "execute_result"
    }
   ],
   "source": [
    "loans_num = loans.select_dtypes(include=['int64','float64'])\n",
    "loans_num.describe()"
   ]
  },
  {
   "cell_type": "code",
   "execution_count": 1183,
   "metadata": {
    "scrolled": true
   },
   "outputs": [
    {
     "data": {
      "text/plain": [
       " 36 months    27496\n",
       " 60 months     9239\n",
       "Name: term, dtype: int64"
      ]
     },
     "execution_count": 1183,
     "metadata": {},
     "output_type": "execute_result"
    }
   ],
   "source": [
    "loans['term'].value_counts()"
   ]
  },
  {
   "cell_type": "markdown",
   "metadata": {},
   "source": [
    "As we can see `term` has two values. `term` is a ordinal categorical variable. We can create a new column `is_short_term` which will have *1* for `36 months` and *0* for `60 months`"
   ]
  },
  {
   "cell_type": "code",
   "execution_count": 1184,
   "metadata": {},
   "outputs": [],
   "source": [
    "loans['is_short_term'] = loans['term'].apply(lambda x : 1 if x == '36 months' else 0)"
   ]
  },
  {
   "cell_type": "code",
   "execution_count": 1185,
   "metadata": {},
   "outputs": [],
   "source": [
    "loans['int_rate'] = loans['int_rate'].str.replace('%',\"\").astype(float)"
   ]
  },
  {
   "cell_type": "code",
   "execution_count": 1186,
   "metadata": {},
   "outputs": [
    {
     "data": {
      "text/plain": [
       "array([[<matplotlib.axes._subplots.AxesSubplot object at 0x7facdf7a7410>]],\n",
       "      dtype=object)"
      ]
     },
     "execution_count": 1186,
     "metadata": {},
     "output_type": "execute_result"
    },
    {
     "data": {
      "image/png": "[encoded data removed]",
      "text/plain": [
       "<Figure size 864x360 with 1 Axes>"
      ]
     },
     "metadata": {},
     "output_type": "display_data"
    }
   ],
   "source": [
    "loans.hist('int_rate', bins=10)"
   ]
  },
  {
   "cell_type": "code",
   "execution_count": 1187,
   "metadata": {},
   "outputs": [],
   "source": [
    "def get_interest_slab(interest):\n",
    "    if interest < 10:\n",
    "        return 'low'\n",
    "    elif interest >= 10 and interest < 17.5:\n",
    "        return 'medium'\n",
    "    else:\n",
    "        return 'high'"
   ]
  },
  {
   "cell_type": "markdown",
   "metadata": {},
   "source": [
    "As we can see `int_rate` is a continuous variable, we are creating a new categorical variable for analysis with following slabs:\n",
    "\n",
    "- interest < 10, will be low\n",
    "- interest < 17.5, will be medium\n",
    "- otherwise it will be marked as high\n"
   ]
  },
  {
   "cell_type": "code",
   "execution_count": 1188,
   "metadata": {},
   "outputs": [],
   "source": [
    "loans['int_rate_slab'] = loans['int_rate'].apply(get_interest_slab)"
   ]
  },
  {
   "cell_type": "code",
   "execution_count": 1189,
   "metadata": {},
   "outputs": [
    {
     "data": {
      "text/plain": [
       "10+ years    8359\n",
       "< 1 year     4322\n",
       "2 years      4194\n",
       "3 years      3940\n",
       "4 years      3283\n",
       "5 years      3147\n",
       "1 year       3062\n",
       "6 years      2132\n",
       "7 years      1685\n",
       "8 years      1405\n",
       "9 years      1206\n",
       "Name: emp_length, dtype: int64"
      ]
     },
     "execution_count": 1189,
     "metadata": {},
     "output_type": "execute_result"
    }
   ],
   "source": [
    "loans['emp_length'].value_counts()"
   ]
  },
  {
   "cell_type": "markdown",
   "metadata": {},
   "source": [
    "As we can, `emp_length` has 11 distinct values, this can be treated as ordinal categorical variable"
   ]
  },
  {
   "cell_type": "code",
   "execution_count": 1190,
   "metadata": {},
   "outputs": [],
   "source": [
    "loans['emp_length'] = loans['emp_length'].apply(\n",
    "    lambda x: x.replace(' years', \"\").replace(' year', \"\").replace(\n",
    "        \"+\", \"\").replace(\"< 1\", \"0\")).astype(int)"
   ]
  },
  {
   "cell_type": "code",
   "execution_count": 1191,
   "metadata": {},
   "outputs": [
    {
     "data": {
      "text/plain": [
       "60000.0000    1408\n",
       "50000.0000     992\n",
       "40000.0000     823\n",
       "45000.0000     771\n",
       "75000.0000     760\n",
       "              ... \n",
       "81972.0000       1\n",
       "9840.0000        1\n",
       "39359.0000       1\n",
       "34416.0000       1\n",
       "8472.0000        1\n",
       "Name: annual_inc, Length: 4932, dtype: int64"
      ]
     },
     "execution_count": 1191,
     "metadata": {},
     "output_type": "execute_result"
    }
   ],
   "source": [
    "loans['annual_inc'].value_counts()"
   ]
  },
  {
   "cell_type": "code",
   "execution_count": 1192,
   "metadata": {},
   "outputs": [
    {
     "data": {
      "text/plain": [
       "count     36735.0000\n",
       "mean      69468.9407\n",
       "std       64063.8854\n",
       "min        4000.0000\n",
       "25%       41200.0000\n",
       "50%       60000.0000\n",
       "75%       83000.0000\n",
       "max     6000000.0000\n",
       "Name: annual_inc, dtype: float64"
      ]
     },
     "execution_count": 1192,
     "metadata": {},
     "output_type": "execute_result"
    }
   ],
   "source": [
    "loans['annual_inc'].describe()"
   ]
  },
  {
   "cell_type": "code",
   "execution_count": 1193,
   "metadata": {},
   "outputs": [
    {
     "data": {
      "text/plain": [
       "<matplotlib.axes._subplots.AxesSubplot at 0x7fac6c2fb650>"
      ]
     },
     "execution_count": 1193,
     "metadata": {},
     "output_type": "execute_result"
    },
    {
     "data": {
      "image/png": "[encoded data removed]",
      "text/plain": [
       "<Figure size 864x360 with 1 Axes>"
      ]
     },
     "metadata": {},
     "output_type": "display_data"
    }
   ],
   "source": [
    "loans.boxplot('annual_inc')"
   ]
  },
  {
   "cell_type": "code",
   "execution_count": 1194,
   "metadata": {},
   "outputs": [
    {
     "data": {
      "text/plain": [
       "<matplotlib.axes._subplots.AxesSubplot at 0x7fac3a86d850>"
      ]
     },
     "execution_count": 1194,
     "metadata": {},
     "output_type": "execute_result"
    },
    {
     "data": {
      "image/png": "[encoded data removed]",
      "text/plain": [
       "<Figure size 864x360 with 1 Axes>"
      ]
     },
     "metadata": {},
     "output_type": "display_data"
    }
   ],
   "source": [
    "sns.distplot(loans['loan_amnt'])"
   ]
  },
  {
   "cell_type": "markdown",
   "metadata": {},
   "source": [
    "As we can see there are clear outliers in the salary, let us remove the outliers in the salary"
   ]
  },
  {
   "cell_type": "code",
   "execution_count": 1195,
   "metadata": {},
   "outputs": [],
   "source": [
    "def get_lower_upper_bound(data):\n",
    "    q1 = np.percentile(data, 25)\n",
    "    q3 = np.percentile(data, 75)\n",
    "\n",
    "    iqr = q3-q1\n",
    "    lower_bound = q1 - (iqr * 1.5)\n",
    "    upper_bound = q3 + (iqr * 1.5)\n",
    "    return lower_bound, upper_bound"
   ]
  },
  {
   "cell_type": "code",
   "execution_count": 1196,
   "metadata": {},
   "outputs": [],
   "source": [
    "def get_outlier_iqr(data):\n",
    "    lower, upper = get_lower_upper_bound(data)\n",
    "    return data[np.where((data > upper) | (data < lower))]\n"
   ]
  },
  {
   "cell_type": "code",
   "execution_count": 1197,
   "metadata": {},
   "outputs": [],
   "source": [
    "#getting salary IQR lower and upper\n",
    "\n",
    "lower_income, upper_income = get_lower_upper_bound(loans['annual_inc'].values)"
   ]
  },
  {
   "cell_type": "code",
   "execution_count": 1198,
   "metadata": {},
   "outputs": [
    {
     "ename": "KeyError",
     "evalue": "\"['title'] not in index\"",
     "output_type": "error",
     "traceback": [
      "\u001b[0;31m---------------------------------------------------------------------------\u001b[0m",
      "\u001b[0;31mKeyError\u001b[0m                                  Traceback (most recent call last)",
      "\u001b[0;32m<ipython-input-1198-b34693854714>\u001b[0m in \u001b[0;36m<module>\u001b[0;34m\u001b[0m\n\u001b[0;32m----> 1\u001b[0;31m \u001b[0mloans\u001b[0m\u001b[0;34m[\u001b[0m\u001b[0;34m(\u001b[0m\u001b[0;34m(\u001b[0m\u001b[0mloans\u001b[0m\u001b[0;34m[\u001b[0m\u001b[0;34m'annual_inc'\u001b[0m\u001b[0;34m]\u001b[0m\u001b[0;34m>\u001b[0m\u001b[0mupper_income\u001b[0m\u001b[0;34m)\u001b[0m\u001b[0;34m|\u001b[0m\u001b[0;34m(\u001b[0m\u001b[0mloans\u001b[0m\u001b[0;34m[\u001b[0m\u001b[0;34m'annual_inc'\u001b[0m\u001b[0;34m]\u001b[0m\u001b[0;34m<\u001b[0m\u001b[0mlower_income\u001b[0m\u001b[0;34m)\u001b[0m\u001b[0;34m)\u001b[0m\u001b[0;34m&\u001b[0m\u001b[0;34m(\u001b[0m\u001b[0mloans\u001b[0m\u001b[0;34m[\u001b[0m\u001b[0;34m'loan_defaulted'\u001b[0m\u001b[0;34m]\u001b[0m\u001b[0;34m==\u001b[0m\u001b[0;36m1\u001b[0m\u001b[0;34m)\u001b[0m\u001b[0;34m]\u001b[0m\u001b[0;34m[\u001b[0m\u001b[0;34m[\u001b[0m\u001b[0;34m'loan_amnt'\u001b[0m\u001b[0;34m,\u001b[0m\u001b[0;34m'annual_inc'\u001b[0m\u001b[0;34m,\u001b[0m\u001b[0;34m'loan_defaulted'\u001b[0m\u001b[0;34m,\u001b[0m\u001b[0;34m'title'\u001b[0m\u001b[0;34m,\u001b[0m\u001b[0;34m'purpose'\u001b[0m\u001b[0;34m]\u001b[0m\u001b[0;34m]\u001b[0m\u001b[0;34m\u001b[0m\u001b[0;34m\u001b[0m\u001b[0m\n\u001b[0m\u001b[1;32m      2\u001b[0m \u001b[0;34m\u001b[0m\u001b[0m\n\u001b[1;32m      3\u001b[0m \u001b[0;34m\u001b[0m\u001b[0m\n\u001b[1;32m      4\u001b[0m \u001b[0;34m\u001b[0m\u001b[0m\n",
      "\u001b[0;32m~/opt/anaconda3/lib/python3.7/site-packages/pandas/core/frame.py\u001b[0m in \u001b[0;36m__getitem__\u001b[0;34m(self, key)\u001b[0m\n\u001b[1;32m   2984\u001b[0m             \u001b[0;32mif\u001b[0m \u001b[0mis_iterator\u001b[0m\u001b[0;34m(\u001b[0m\u001b[0mkey\u001b[0m\u001b[0;34m)\u001b[0m\u001b[0;34m:\u001b[0m\u001b[0;34m\u001b[0m\u001b[0;34m\u001b[0m\u001b[0m\n\u001b[1;32m   2985\u001b[0m                 \u001b[0mkey\u001b[0m \u001b[0;34m=\u001b[0m \u001b[0mlist\u001b[0m\u001b[0;34m(\u001b[0m\u001b[0mkey\u001b[0m\u001b[0;34m)\u001b[0m\u001b[0;34m\u001b[0m\u001b[0;34m\u001b[0m\u001b[0m\n\u001b[0;32m-> 2986\u001b[0;31m             \u001b[0mindexer\u001b[0m \u001b[0;34m=\u001b[0m \u001b[0mself\u001b[0m\u001b[0;34m.\u001b[0m\u001b[0mloc\u001b[0m\u001b[0;34m.\u001b[0m\u001b[0m_convert_to_indexer\u001b[0m\u001b[0;34m(\u001b[0m\u001b[0mkey\u001b[0m\u001b[0;34m,\u001b[0m \u001b[0maxis\u001b[0m\u001b[0;34m=\u001b[0m\u001b[0;36m1\u001b[0m\u001b[0;34m,\u001b[0m \u001b[0mraise_missing\u001b[0m\u001b[0;34m=\u001b[0m\u001b[0;32mTrue\u001b[0m\u001b[0;34m)\u001b[0m\u001b[0;34m\u001b[0m\u001b[0;34m\u001b[0m\u001b[0m\n\u001b[0m\u001b[1;32m   2987\u001b[0m \u001b[0;34m\u001b[0m\u001b[0m\n\u001b[1;32m   2988\u001b[0m         \u001b[0;31m# take() does not accept boolean indexers\u001b[0m\u001b[0;34m\u001b[0m\u001b[0;34m\u001b[0m\u001b[0;34m\u001b[0m\u001b[0m\n",
      "\u001b[0;32m~/opt/anaconda3/lib/python3.7/site-packages/pandas/core/indexing.py\u001b[0m in \u001b[0;36m_convert_to_indexer\u001b[0;34m(self, obj, axis, is_setter, raise_missing)\u001b[0m\n\u001b[1;32m   1283\u001b[0m                 \u001b[0;31m# When setting, missing keys are not allowed, even with .loc:\u001b[0m\u001b[0;34m\u001b[0m\u001b[0;34m\u001b[0m\u001b[0;34m\u001b[0m\u001b[0m\n\u001b[1;32m   1284\u001b[0m                 \u001b[0mkwargs\u001b[0m \u001b[0;34m=\u001b[0m \u001b[0;34m{\u001b[0m\u001b[0;34m\"raise_missing\"\u001b[0m\u001b[0;34m:\u001b[0m \u001b[0;32mTrue\u001b[0m \u001b[0;32mif\u001b[0m \u001b[0mis_setter\u001b[0m \u001b[0;32melse\u001b[0m \u001b[0mraise_missing\u001b[0m\u001b[0;34m}\u001b[0m\u001b[0;34m\u001b[0m\u001b[0;34m\u001b[0m\u001b[0m\n\u001b[0;32m-> 1285\u001b[0;31m                 \u001b[0;32mreturn\u001b[0m \u001b[0mself\u001b[0m\u001b[0;34m.\u001b[0m\u001b[0m_get_listlike_indexer\u001b[0m\u001b[0;34m(\u001b[0m\u001b[0mobj\u001b[0m\u001b[0;34m,\u001b[0m \u001b[0maxis\u001b[0m\u001b[0;34m,\u001b[0m \u001b[0;34m**\u001b[0m\u001b[0mkwargs\u001b[0m\u001b[0;34m)\u001b[0m\u001b[0;34m[\u001b[0m\u001b[0;36m1\u001b[0m\u001b[0;34m]\u001b[0m\u001b[0;34m\u001b[0m\u001b[0;34m\u001b[0m\u001b[0m\n\u001b[0m\u001b[1;32m   1286\u001b[0m         \u001b[0;32melse\u001b[0m\u001b[0;34m:\u001b[0m\u001b[0;34m\u001b[0m\u001b[0;34m\u001b[0m\u001b[0m\n\u001b[1;32m   1287\u001b[0m             \u001b[0;32mtry\u001b[0m\u001b[0;34m:\u001b[0m\u001b[0;34m\u001b[0m\u001b[0;34m\u001b[0m\u001b[0m\n",
      "\u001b[0;32m~/opt/anaconda3/lib/python3.7/site-packages/pandas/core/indexing.py\u001b[0m in \u001b[0;36m_get_listlike_indexer\u001b[0;34m(self, key, axis, raise_missing)\u001b[0m\n\u001b[1;32m   1090\u001b[0m \u001b[0;34m\u001b[0m\u001b[0m\n\u001b[1;32m   1091\u001b[0m         self._validate_read_indexer(\n\u001b[0;32m-> 1092\u001b[0;31m             \u001b[0mkeyarr\u001b[0m\u001b[0;34m,\u001b[0m \u001b[0mindexer\u001b[0m\u001b[0;34m,\u001b[0m \u001b[0mo\u001b[0m\u001b[0;34m.\u001b[0m\u001b[0m_get_axis_number\u001b[0m\u001b[0;34m(\u001b[0m\u001b[0maxis\u001b[0m\u001b[0;34m)\u001b[0m\u001b[0;34m,\u001b[0m \u001b[0mraise_missing\u001b[0m\u001b[0;34m=\u001b[0m\u001b[0mraise_missing\u001b[0m\u001b[0;34m\u001b[0m\u001b[0;34m\u001b[0m\u001b[0m\n\u001b[0m\u001b[1;32m   1093\u001b[0m         )\n\u001b[1;32m   1094\u001b[0m         \u001b[0;32mreturn\u001b[0m \u001b[0mkeyarr\u001b[0m\u001b[0;34m,\u001b[0m \u001b[0mindexer\u001b[0m\u001b[0;34m\u001b[0m\u001b[0;34m\u001b[0m\u001b[0m\n",
      "\u001b[0;32m~/opt/anaconda3/lib/python3.7/site-packages/pandas/core/indexing.py\u001b[0m in \u001b[0;36m_validate_read_indexer\u001b[0;34m(self, key, indexer, axis, raise_missing)\u001b[0m\n\u001b[1;32m   1183\u001b[0m             \u001b[0;32mif\u001b[0m \u001b[0;32mnot\u001b[0m \u001b[0;34m(\u001b[0m\u001b[0mself\u001b[0m\u001b[0;34m.\u001b[0m\u001b[0mname\u001b[0m \u001b[0;34m==\u001b[0m \u001b[0;34m\"loc\"\u001b[0m \u001b[0;32mand\u001b[0m \u001b[0;32mnot\u001b[0m \u001b[0mraise_missing\u001b[0m\u001b[0;34m)\u001b[0m\u001b[0;34m:\u001b[0m\u001b[0;34m\u001b[0m\u001b[0;34m\u001b[0m\u001b[0m\n\u001b[1;32m   1184\u001b[0m                 \u001b[0mnot_found\u001b[0m \u001b[0;34m=\u001b[0m \u001b[0mlist\u001b[0m\u001b[0;34m(\u001b[0m\u001b[0mset\u001b[0m\u001b[0;34m(\u001b[0m\u001b[0mkey\u001b[0m\u001b[0;34m)\u001b[0m \u001b[0;34m-\u001b[0m \u001b[0mset\u001b[0m\u001b[0;34m(\u001b[0m\u001b[0max\u001b[0m\u001b[0;34m)\u001b[0m\u001b[0;34m)\u001b[0m\u001b[0;34m\u001b[0m\u001b[0;34m\u001b[0m\u001b[0m\n\u001b[0;32m-> 1185\u001b[0;31m                 \u001b[0;32mraise\u001b[0m \u001b[0mKeyError\u001b[0m\u001b[0;34m(\u001b[0m\u001b[0;34m\"{} not in index\"\u001b[0m\u001b[0;34m.\u001b[0m\u001b[0mformat\u001b[0m\u001b[0;34m(\u001b[0m\u001b[0mnot_found\u001b[0m\u001b[0;34m)\u001b[0m\u001b[0;34m)\u001b[0m\u001b[0;34m\u001b[0m\u001b[0;34m\u001b[0m\u001b[0m\n\u001b[0m\u001b[1;32m   1186\u001b[0m \u001b[0;34m\u001b[0m\u001b[0m\n\u001b[1;32m   1187\u001b[0m             \u001b[0;31m# we skip the warning on Categorical/Interval\u001b[0m\u001b[0;34m\u001b[0m\u001b[0;34m\u001b[0m\u001b[0;34m\u001b[0m\u001b[0m\n",
      "\u001b[0;31mKeyError\u001b[0m: \"['title'] not in index\""
     ]
    }
   ],
   "source": [
    "loans[((loans['annual_inc']>upper_income)|(loans['annual_inc']<lower_income))&(loans['loan_defaulted']==1)][['loan_amnt','annual_inc','loan_defaulted','title','purpose']]\n",
    "\n",
    "\n",
    "\n"
   ]
  },
  {
   "cell_type": "code",
   "execution_count": null,
   "metadata": {},
   "outputs": [],
   "source": []
  },
  {
   "cell_type": "code",
   "execution_count": null,
   "metadata": {},
   "outputs": [],
   "source": []
  },
  {
   "cell_type": "code",
   "execution_count": null,
   "metadata": {},
   "outputs": [],
   "source": []
  },
  {
   "cell_type": "code",
   "execution_count": null,
   "metadata": {},
   "outputs": [],
   "source": []
  },
  {
   "cell_type": "code",
   "execution_count": null,
   "metadata": {},
   "outputs": [],
   "source": []
  },
  {
   "cell_type": "code",
   "execution_count": null,
   "metadata": {},
   "outputs": [],
   "source": []
  },
  {
   "cell_type": "code",
   "execution_count": null,
   "metadata": {},
   "outputs": [],
   "source": []
  },
  {
   "cell_type": "code",
   "execution_count": null,
   "metadata": {},
   "outputs": [],
   "source": [
    "c_palette = ['tab:green', 'tab:red']\n",
    "categorical_summarized(loans, x = 'term', hue='loan_defaulted', palette=c_palette)"
   ]
  },
  {
   "cell_type": "code",
   "execution_count": null,
   "metadata": {},
   "outputs": [],
   "source": []
  },
  {
   "cell_type": "code",
   "execution_count": null,
   "metadata": {},
   "outputs": [],
   "source": [
    "colors_list = ['#5cb85c','#5bc0de']\n",
    "test = loans[['emp_length','loan_defaulted']]\n",
    "test = pd.crosstab(test.emp_length, test.loan_defaulted, margins=False)\n",
    "\n",
    "# Change this line to plot percentages instead of absolute values\n",
    "ax = (test.div(test.sum(1), axis=0)).plot(kind='bar',figsize=(15,4),width = 0.8,color = colors_list,edgecolor=None)\n",
    "plt.legend(labels=test.columns,fontsize= 14)\n",
    "plt.title(\"Percentage of Respondents' Interest in Data Science Areas\",fontsize= 16)\n",
    "\n",
    "plt.xticks(fontsize=14)\n",
    "for spine in plt.gca().spines.values():\n",
    "    spine.set_visible(False)\n",
    "plt.yticks([])\n",
    "\n",
    "# Add this loop to add the annotations\n",
    "for p in ax.patches:\n",
    "    width, height = p.get_width(), p.get_height()\n",
    "    x, y = p.get_xy() \n",
    "    ax.annotate('{:.0%}'.format(height), (x, y + height + 0.01))"
   ]
  },
  {
   "cell_type": "code",
   "execution_count": null,
   "metadata": {},
   "outputs": [],
   "source": [
    "categorical_summarized(loans, x = 'grade', hue='loan_defaulted', palette=c_palette, figsize=(12,4))"
   ]
  },
  {
   "cell_type": "code",
   "execution_count": null,
   "metadata": {},
   "outputs": [],
   "source": [
    "sns.set(rc={'figure.figsize':(15,5)})\n",
    "sns.countplot(x='emp_length', hue='loan_defaulted', data=loans)"
   ]
  },
  {
   "cell_type": "code",
   "execution_count": null,
   "metadata": {},
   "outputs": [],
   "source": [
    "categorical_summarized(loans, x = 'emp_length', hue='loan_defaulted', palette=c_palette, figsize=(15,6))"
   ]
  },
  {
   "cell_type": "markdown",
   "metadata": {},
   "source": [
    "As, we can see `term` has two values, we can convert it into `category`."
   ]
  },
  {
   "cell_type": "code",
   "execution_count": null,
   "metadata": {},
   "outputs": [],
   "source": [
    "len(loans)"
   ]
  },
  {
   "cell_type": "code",
   "execution_count": null,
   "metadata": {},
   "outputs": [],
   "source": [
    "loans.head()"
   ]
  },
  {
   "cell_type": "code",
   "execution_count": null,
   "metadata": {},
   "outputs": [],
   "source": [
    "sns.set(rc={'figure.figsize':(3,5)})\n",
    "sns.countplot(x='loan_status',data=loans)"
   ]
  },
  {
   "cell_type": "code",
   "execution_count": null,
   "metadata": {},
   "outputs": [],
   "source": [
    "loans['loan_status'].value_counts()"
   ]
  },
  {
   "cell_type": "code",
   "execution_count": null,
   "metadata": {},
   "outputs": [],
   "source": [
    "ax = sns.countplot(x='loan_defaulted', data=loans)\n",
    "\n",
    "plt.title('Distribution of  loan')\n",
    "plt.xlabel('Type of loan')\n",
    "\n",
    "total = len(loans['loan_defaulted'])\n",
    "for p in ax.patches:\n",
    "    print(p)\n",
    "    percentage = '{:.1f}%'.format(100 * p.get_height() / total)\n",
    "    x = p.get_x() + p.get_width() + 0.02\n",
    "    y = p.get_y() + p.get_height() / 2\n",
    "    ax.annotate(percentage, (x, y))\n",
    "\n",
    "plt.show()"
   ]
  },
  {
   "cell_type": "code",
   "execution_count": null,
   "metadata": {},
   "outputs": [],
   "source": [
    "sns.set(rc={'figure.figsize':(10,5)})\n",
    "sns.countplot(x='grade',data=loans.sort_values(['grade']))"
   ]
  },
  {
   "cell_type": "code",
   "execution_count": null,
   "metadata": {},
   "outputs": [],
   "source": [
    "sns.set(rc={'figure.figsize':(6,5)})\n",
    "sns.countplot(x='home_ownership',data=loans)"
   ]
  },
  {
   "cell_type": "markdown",
   "metadata": {},
   "source": [
    "Changing type of columns `collections_12_mths_ex_med`, `chargeoff_within_12_mths`, `pub_rec_bankruptcies` and `tax_liens` from float to int"
   ]
  },
  {
   "cell_type": "markdown",
   "metadata": {},
   "source": [
    "We can see `pub_rec_bankruptcies` has 3 values, which can be considered as Ordinal categorical variable"
   ]
  },
  {
   "cell_type": "code",
   "execution_count": null,
   "metadata": {},
   "outputs": [],
   "source": [
    "loans['pub_rec_bankruptcies'] = loans['pub_rec_bankruptcies'].astype('category')"
   ]
  },
  {
   "cell_type": "code",
   "execution_count": null,
   "metadata": {},
   "outputs": [],
   "source": [
    "loans_num.corr(method='kendall')"
   ]
  },
  {
   "cell_type": "code",
   "execution_count": null,
   "metadata": {
    "scrolled": true
   },
   "outputs": [],
   "source": [
    "sns.set(rc={'figure.figsize':(15,15)})\n",
    "sns.set()\n",
    "sns.heatmap(loans_num.corr(method='spearman'), annot=True, fmt='.2f', linewidths=2)\n",
    "\n",
    "sns.set()"
   ]
  },
  {
   "cell_type": "code",
   "execution_count": null,
   "metadata": {},
   "outputs": [],
   "source": [
    "#sns.pairplot(loans_num)"
   ]
  },
  {
   "cell_type": "code",
   "execution_count": null,
   "metadata": {},
   "outputs": [],
   "source": [
    "loans['earliest_cr_line'].value_counts()"
   ]
  },
  {
   "cell_type": "code",
   "execution_count": null,
   "metadata": {},
   "outputs": [],
   "source": []
  }
 ],
 "metadata": {
  "kernelspec": {
   "display_name": "Python 3",
   "language": "python",
   "name": "python3"
  },
  "language_info": {
   "codemirror_mode": {
    "name": "ipython",
    "version": 3
   },
   "file_extension": ".py",
   "mimetype": "text/x-python",
   "name": "python",
   "nbconvert_exporter": "python",
   "pygments_lexer": "ipython3",
   "version": "3.7.4"
  }
 },
 "nbformat": 4,
 "nbformat_minor": 2
}
